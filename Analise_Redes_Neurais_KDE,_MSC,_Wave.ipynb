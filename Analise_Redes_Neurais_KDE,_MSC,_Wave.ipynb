{
  "nbformat": 4,
  "nbformat_minor": 0,
  "metadata": {
    "colab": {
      "provenance": [],
      "authorship_tag": "ABX9TyN/1kgj3GsZU5cRrgdJDWV/",
      "include_colab_link": true
    },
    "kernelspec": {
      "name": "python3",
      "display_name": "Python 3"
    },
    "language_info": {
      "name": "python"
    }
  },
  "cells": [
    {
      "cell_type": "markdown",
      "metadata": {
        "id": "view-in-github",
        "colab_type": "text"
      },
      "source": [
        "<a href=\"https://colab.research.google.com/github/dastias/Projeto-doutorado/blob/main/Analise_Redes_Neurais_KDE%2C_MSC%2C_Wave.ipynb\" target=\"_parent\"><img src=\"https://colab.research.google.com/assets/colab-badge.svg\" alt=\"Open In Colab\"/></a>"
      ]
    },
    {
      "cell_type": "code",
      "execution_count": 1,
      "metadata": {
        "colab": {
          "base_uri": "https://localhost:8080/",
          "height": 385
        },
        "id": "U0qrrwdJnR8v",
        "outputId": "b3744f08-28a0-49bc-8339-66b4c5924f71"
      },
      "outputs": [
        {
          "output_type": "error",
          "ename": "MessageError",
          "evalue": "Error: credential propagation was unsuccessful",
          "traceback": [
            "\u001b[0;31m---------------------------------------------------------------------------\u001b[0m",
            "\u001b[0;31mMessageError\u001b[0m                              Traceback (most recent call last)",
            "\u001b[0;32m<ipython-input-1-227323502a6d>\u001b[0m in \u001b[0;36m<cell line: 2>\u001b[0;34m()\u001b[0m\n\u001b[1;32m      1\u001b[0m \u001b[0;32mfrom\u001b[0m \u001b[0mgoogle\u001b[0m\u001b[0;34m.\u001b[0m\u001b[0mcolab\u001b[0m \u001b[0;32mimport\u001b[0m \u001b[0mdrive\u001b[0m\u001b[0;34m\u001b[0m\u001b[0;34m\u001b[0m\u001b[0m\n\u001b[0;32m----> 2\u001b[0;31m \u001b[0mdrive\u001b[0m\u001b[0;34m.\u001b[0m\u001b[0mmount\u001b[0m\u001b[0;34m(\u001b[0m\u001b[0;34m'/content/drive'\u001b[0m\u001b[0;34m)\u001b[0m\u001b[0;34m\u001b[0m\u001b[0;34m\u001b[0m\u001b[0m\n\u001b[0m\u001b[1;32m      3\u001b[0m \u001b[0;34m\u001b[0m\u001b[0m\n\u001b[1;32m      4\u001b[0m \u001b[0;32mimport\u001b[0m \u001b[0mpandas\u001b[0m \u001b[0;32mas\u001b[0m \u001b[0mpd\u001b[0m\u001b[0;34m\u001b[0m\u001b[0;34m\u001b[0m\u001b[0m\n\u001b[1;32m      5\u001b[0m \u001b[0;32mimport\u001b[0m \u001b[0mnumpy\u001b[0m \u001b[0;32mas\u001b[0m \u001b[0mnp\u001b[0m\u001b[0;34m\u001b[0m\u001b[0;34m\u001b[0m\u001b[0m\n",
            "\u001b[0;32m/usr/local/lib/python3.10/dist-packages/google/colab/drive.py\u001b[0m in \u001b[0;36mmount\u001b[0;34m(mountpoint, force_remount, timeout_ms, readonly)\u001b[0m\n\u001b[1;32m     98\u001b[0m \u001b[0;32mdef\u001b[0m \u001b[0mmount\u001b[0m\u001b[0;34m(\u001b[0m\u001b[0mmountpoint\u001b[0m\u001b[0;34m,\u001b[0m \u001b[0mforce_remount\u001b[0m\u001b[0;34m=\u001b[0m\u001b[0;32mFalse\u001b[0m\u001b[0;34m,\u001b[0m \u001b[0mtimeout_ms\u001b[0m\u001b[0;34m=\u001b[0m\u001b[0;36m120000\u001b[0m\u001b[0;34m,\u001b[0m \u001b[0mreadonly\u001b[0m\u001b[0;34m=\u001b[0m\u001b[0;32mFalse\u001b[0m\u001b[0;34m)\u001b[0m\u001b[0;34m:\u001b[0m\u001b[0;34m\u001b[0m\u001b[0;34m\u001b[0m\u001b[0m\n\u001b[1;32m     99\u001b[0m   \u001b[0;34m\"\"\"Mount your Google Drive at the specified mountpoint path.\"\"\"\u001b[0m\u001b[0;34m\u001b[0m\u001b[0;34m\u001b[0m\u001b[0m\n\u001b[0;32m--> 100\u001b[0;31m   return _mount(\n\u001b[0m\u001b[1;32m    101\u001b[0m       \u001b[0mmountpoint\u001b[0m\u001b[0;34m,\u001b[0m\u001b[0;34m\u001b[0m\u001b[0;34m\u001b[0m\u001b[0m\n\u001b[1;32m    102\u001b[0m       \u001b[0mforce_remount\u001b[0m\u001b[0;34m=\u001b[0m\u001b[0mforce_remount\u001b[0m\u001b[0;34m,\u001b[0m\u001b[0;34m\u001b[0m\u001b[0;34m\u001b[0m\u001b[0m\n",
            "\u001b[0;32m/usr/local/lib/python3.10/dist-packages/google/colab/drive.py\u001b[0m in \u001b[0;36m_mount\u001b[0;34m(mountpoint, force_remount, timeout_ms, ephemeral, readonly)\u001b[0m\n\u001b[1;32m    131\u001b[0m   )\n\u001b[1;32m    132\u001b[0m   \u001b[0;32mif\u001b[0m \u001b[0mephemeral\u001b[0m\u001b[0;34m:\u001b[0m\u001b[0;34m\u001b[0m\u001b[0;34m\u001b[0m\u001b[0m\n\u001b[0;32m--> 133\u001b[0;31m     _message.blocking_request(\n\u001b[0m\u001b[1;32m    134\u001b[0m         \u001b[0;34m'request_auth'\u001b[0m\u001b[0;34m,\u001b[0m\u001b[0;34m\u001b[0m\u001b[0;34m\u001b[0m\u001b[0m\n\u001b[1;32m    135\u001b[0m         \u001b[0mrequest\u001b[0m\u001b[0;34m=\u001b[0m\u001b[0;34m{\u001b[0m\u001b[0;34m'authType'\u001b[0m\u001b[0;34m:\u001b[0m \u001b[0;34m'dfs_ephemeral'\u001b[0m\u001b[0;34m}\u001b[0m\u001b[0;34m,\u001b[0m\u001b[0;34m\u001b[0m\u001b[0;34m\u001b[0m\u001b[0m\n",
            "\u001b[0;32m/usr/local/lib/python3.10/dist-packages/google/colab/_message.py\u001b[0m in \u001b[0;36mblocking_request\u001b[0;34m(request_type, request, timeout_sec, parent)\u001b[0m\n\u001b[1;32m    174\u001b[0m       \u001b[0mrequest_type\u001b[0m\u001b[0;34m,\u001b[0m \u001b[0mrequest\u001b[0m\u001b[0;34m,\u001b[0m \u001b[0mparent\u001b[0m\u001b[0;34m=\u001b[0m\u001b[0mparent\u001b[0m\u001b[0;34m,\u001b[0m \u001b[0mexpect_reply\u001b[0m\u001b[0;34m=\u001b[0m\u001b[0;32mTrue\u001b[0m\u001b[0;34m\u001b[0m\u001b[0;34m\u001b[0m\u001b[0m\n\u001b[1;32m    175\u001b[0m   )\n\u001b[0;32m--> 176\u001b[0;31m   \u001b[0;32mreturn\u001b[0m \u001b[0mread_reply_from_input\u001b[0m\u001b[0;34m(\u001b[0m\u001b[0mrequest_id\u001b[0m\u001b[0;34m,\u001b[0m \u001b[0mtimeout_sec\u001b[0m\u001b[0;34m)\u001b[0m\u001b[0;34m\u001b[0m\u001b[0;34m\u001b[0m\u001b[0m\n\u001b[0m",
            "\u001b[0;32m/usr/local/lib/python3.10/dist-packages/google/colab/_message.py\u001b[0m in \u001b[0;36mread_reply_from_input\u001b[0;34m(message_id, timeout_sec)\u001b[0m\n\u001b[1;32m    101\u001b[0m     ):\n\u001b[1;32m    102\u001b[0m       \u001b[0;32mif\u001b[0m \u001b[0;34m'error'\u001b[0m \u001b[0;32min\u001b[0m \u001b[0mreply\u001b[0m\u001b[0;34m:\u001b[0m\u001b[0;34m\u001b[0m\u001b[0;34m\u001b[0m\u001b[0m\n\u001b[0;32m--> 103\u001b[0;31m         \u001b[0;32mraise\u001b[0m \u001b[0mMessageError\u001b[0m\u001b[0;34m(\u001b[0m\u001b[0mreply\u001b[0m\u001b[0;34m[\u001b[0m\u001b[0;34m'error'\u001b[0m\u001b[0;34m]\u001b[0m\u001b[0;34m)\u001b[0m\u001b[0;34m\u001b[0m\u001b[0;34m\u001b[0m\u001b[0m\n\u001b[0m\u001b[1;32m    104\u001b[0m       \u001b[0;32mreturn\u001b[0m \u001b[0mreply\u001b[0m\u001b[0;34m.\u001b[0m\u001b[0mget\u001b[0m\u001b[0;34m(\u001b[0m\u001b[0;34m'data'\u001b[0m\u001b[0;34m,\u001b[0m \u001b[0;32mNone\u001b[0m\u001b[0;34m)\u001b[0m\u001b[0;34m\u001b[0m\u001b[0;34m\u001b[0m\u001b[0m\n\u001b[1;32m    105\u001b[0m \u001b[0;34m\u001b[0m\u001b[0m\n",
            "\u001b[0;31mMessageError\u001b[0m: Error: credential propagation was unsuccessful"
          ]
        }
      ],
      "source": [
        "from google.colab import drive\n",
        "drive.mount('/content/drive')\n",
        "\n",
        "import pandas as pd\n",
        "import numpy as np\n",
        "import matplotlib.pyplot as plt\n",
        "from scipy.signal import find_peaks\n",
        "from scipy.signal import stft\n",
        "import matplotlib.pyplot as plt\n",
        "from sklearn.cluster import MeanShift\n",
        "from sklearn.datasets import make_blobs\n",
        "from scipy.fft import fft, ifft,rfft,irfft\n",
        "from sklearn.cluster import estimate_bandwidth\n",
        "import pywt"
      ]
    },
    {
      "cell_type": "markdown",
      "source": [
        "### Carrega Dados Padrão"
      ],
      "metadata": {
        "id": "vd4GfXXXoEUO"
      }
    },
    {
      "cell_type": "code",
      "source": [
        "dados_normal = pd.read_csv('/content/drive/My Drive/DADOS DOUTORADO/Dados_VBL_NOR.csv')\n",
        "dados_bea = pd.read_csv('/content/drive/My Drive/DADOS DOUTORADO/Dados_VBL_BEA.csv')\n"
      ],
      "metadata": {
        "id": "GBgueifYnhdf"
      },
      "execution_count": null,
      "outputs": []
    },
    {
      "cell_type": "code",
      "source": [
        "dados_mis = pd.read_csv('/content/drive/My Drive/DADOS DOUTORADO/Dados_VBL_MIS.csv')\n",
        "dados_unb = pd.read_csv('/content/drive/My Drive/DADOS DOUTORADO/Dados_VBL_UNB.csv')"
      ],
      "metadata": {
        "id": "Zdaq9UhxwNGK"
      },
      "execution_count": null,
      "outputs": []
    },
    {
      "cell_type": "markdown",
      "source": [
        "### Carrega Dados Filtrados Wave"
      ],
      "metadata": {
        "id": "_Q-ywlsCouTR"
      }
    },
    {
      "cell_type": "code",
      "source": [
        "wave_normal = pd.read_csv('/content/drive/My Drive/DADOS DOUTORADO/Wave_KDE/wave_normal.csv')\n",
        "wave_bea = pd.read_csv('/content/drive/My Drive/DADOS DOUTORADO/Wave_KDE/wave_bea.csv')"
      ],
      "metadata": {
        "id": "wy-jgT6Vo0kF"
      },
      "execution_count": null,
      "outputs": []
    },
    {
      "cell_type": "markdown",
      "source": [
        "### Carrega Dados Filtrados KDE"
      ],
      "metadata": {
        "id": "ghVZmcf5rQ0e"
      }
    },
    {
      "cell_type": "code",
      "source": [
        "KDE_normal = pd.read_csv('/content/drive/My Drive/DADOS DOUTORADO/Wave_KDE/KDE_normal.csv')\n",
        "KDE_bea = pd.read_csv('/content/drive/My Drive/DADOS DOUTORADO/Wave_KDE/KDE_bea.csv')"
      ],
      "metadata": {
        "id": "FpD0z1ubrIGf"
      },
      "execution_count": null,
      "outputs": []
    },
    {
      "cell_type": "markdown",
      "source": [
        "### Carrega Dados Filtrados MSC"
      ],
      "metadata": {
        "id": "DsREiKzGrhSW"
      }
    },
    {
      "cell_type": "code",
      "source": [
        "MSC_normal = pd.read_csv('/content/drive/My Drive/DADOS DOUTORADO/normal_filtrado_MSC_50.csv')\n",
        "MSC_bea = pd.read_csv('/content/drive/My Drive/DADOS DOUTORADO/bea_filtrado_MSC_50.csv')"
      ],
      "metadata": {
        "id": "oItz4Fvyrkjl"
      },
      "execution_count": null,
      "outputs": []
    },
    {
      "cell_type": "markdown",
      "source": [
        "### Carrega Dados Wave + KDE"
      ],
      "metadata": {
        "id": "pm96zN9EsCP_"
      }
    },
    {
      "cell_type": "code",
      "source": [
        "Wave_KDE_normal = pd.read_csv('/content/drive/My Drive/DADOS DOUTORADO/Wave_KDE/wave_KDE_normal.csv')\n",
        "Wave_KDE_bea = pd.read_csv('/content/drive/My Drive/DADOS DOUTORADO/Wave_KDE/wave_KDE_bea.csv')"
      ],
      "metadata": {
        "id": "N2hzpwuTsGH8"
      },
      "execution_count": null,
      "outputs": []
    },
    {
      "cell_type": "markdown",
      "source": [
        "### Carrega Dados Wave + MSC"
      ],
      "metadata": {
        "id": "GLo7d5tcsewv"
      }
    },
    {
      "cell_type": "code",
      "source": [],
      "metadata": {
        "id": "xzRA4DGkshjX"
      },
      "execution_count": null,
      "outputs": []
    },
    {
      "cell_type": "markdown",
      "source": [
        "### Definição de Features"
      ],
      "metadata": {
        "id": "NSrdqwgaoJ0e"
      }
    },
    {
      "cell_type": "code",
      "source": [
        "def FFT(data):\n",
        "    '''FFT process and filtering'''\n",
        "    data = np.asarray(data)\n",
        "    fft = abs(rfft(data))\n",
        "    return fft"
      ],
      "metadata": {
        "id": "8TOhjRrpoDsr"
      },
      "execution_count": null,
      "outputs": []
    },
    {
      "cell_type": "code",
      "source": [
        "def mean(data):\n",
        "    '''Mean features'''\n",
        "    data = np.asarray(data)\n",
        "    M = pd.DataFrame(np.mean(data, axis=1))\n",
        "    return M"
      ],
      "metadata": {
        "id": "x10ol0Y8oWCf"
      },
      "execution_count": null,
      "outputs": []
    },
    {
      "cell_type": "code",
      "source": [
        "def pp(data):\n",
        "    '''Peak-to-Peak features'''\n",
        "    data = np.asarray(data)\n",
        "    PP = pd.DataFrame(np.max(data, axis=1) - np.min(data, axis=1))\n",
        "    return PP"
      ],
      "metadata": {
        "id": "aRN1KOd-oXaa"
      },
      "execution_count": null,
      "outputs": []
    },
    {
      "cell_type": "code",
      "source": [
        "def rms(data):\n",
        "    '''RMS features'''\n",
        "    data = np.asarray(data)\n",
        "    Rms = pd.DataFrame(np.sqrt(np.mean(data**2, axis=1)))\n",
        "    return Rms"
      ],
      "metadata": {
        "id": "YQF6w9w8oY7u"
      },
      "execution_count": null,
      "outputs": []
    },
    {
      "cell_type": "markdown",
      "source": [
        "### Features Dados Originais"
      ],
      "metadata": {
        "id": "zi7WK34QxFdN"
      }
    },
    {
      "cell_type": "code",
      "source": [
        "fft_normal = pd.DataFrame(FFT(dados_normal.iloc[:50]))\n",
        "fft_bea = pd.DataFrame(FFT(dados_bea.iloc[:50]))\n",
        "fft_mis = pd.DataFrame(FFT(dados_mis.iloc[:50]))\n",
        "fft_unb = pd.DataFrame(FFT(dados_unb.iloc[:50]))"
      ],
      "metadata": {
        "id": "F0-7jofgoaiD"
      },
      "execution_count": null,
      "outputs": []
    },
    {
      "cell_type": "code",
      "source": [
        "data_merged = pd.concat((fft_normal, fft_bea,fft_mis,fft_unb))"
      ],
      "metadata": {
        "id": "AQfNSNo1x9mk"
      },
      "execution_count": null,
      "outputs": []
    },
    {
      "cell_type": "code",
      "source": [
        "def NormalizeData(data):  # Normalisasi (0-1)\n",
        "    data_max = np.max(data_merged)\n",
        "    data_min = np.min(data_merged)\n",
        "    return pd.DataFrame((data - np.min(data_min)) / (np.max(data_max) - np.min(data_min)))"
      ],
      "metadata": {
        "id": "thYZVyz2yHwi"
      },
      "execution_count": null,
      "outputs": []
    },
    {
      "cell_type": "code",
      "source": [
        "fft_normal_norm = NormalizeData(fft_normal)\n",
        "fft_bea_norm = NormalizeData(fft_bea)\n",
        "fft_mis_norm = NormalizeData(fft_mis)\n",
        "fft_unb_norm = NormalizeData(fft_unb)"
      ],
      "metadata": {
        "id": "WfX3WeQryxUs"
      },
      "execution_count": null,
      "outputs": []
    },
    {
      "cell_type": "code",
      "source": [
        "media_normal = mean(fft_normal_norm)\n",
        "media_bea = mean(fft_bea_norm)\n",
        "media_mis = mean(fft_mis_norm)\n",
        "media_unb = mean(fft_unb_norm)\n",
        "pp_normal = pp(fft_normal_norm)\n",
        "pp_bea = pp(fft_bea_norm)\n",
        "pp_mis = pp(fft_mis_norm)\n",
        "pp_unb = pp(fft_unb_norm)\n",
        "rms_normal = rms(fft_normal_norm)\n",
        "rms_bea = rms(fft_bea_norm)\n",
        "rms_mis = rms(fft_mis_norm)\n",
        "rms_unb = rms(fft_unb_norm)\n"
      ],
      "metadata": {
        "id": "aFU6tJxMy2vi"
      },
      "execution_count": null,
      "outputs": []
    },
    {
      "cell_type": "code",
      "source": [
        "feat_normal = pd.concat((media_normal, pp_normal, rms_normal), axis=1)\n",
        "feat_bea = pd.concat((media_bea, pp_bea, rms_bea), axis=1)\n",
        "feat_mis = pd.concat((media_mis, pp_mis, rms_mis), axis=1)\n",
        "feat_unb = pd.concat((media_unb, pp_unb, rms_unb), axis=1)"
      ],
      "metadata": {
        "id": "vLpqpDYJzJYv"
      },
      "execution_count": null,
      "outputs": []
    },
    {
      "cell_type": "code",
      "source": [
        "feat_normal.columns = ['media', 'pp', 'rms']\n",
        "feat_bea.columns = ['media', 'pp', 'rms']\n",
        "feat_mis.columns = ['media', 'pp', 'rms']\n",
        "feat_unb.columns = ['media', 'pp', 'rms']"
      ],
      "metadata": {
        "id": "pGFYfXXM0v49"
      },
      "execution_count": null,
      "outputs": []
    },
    {
      "cell_type": "code",
      "source": [
        "feat_normal['cond']=0\n",
        "feat_bea['cond']=1\n",
        "feat_mis['cond']=2\n",
        "feat_unb['cond']=3"
      ],
      "metadata": {
        "id": "9AqeKWFm09Ol"
      },
      "execution_count": null,
      "outputs": []
    },
    {
      "cell_type": "code",
      "source": [
        "matriz_classificacao = pd.concat((feat_normal, feat_bea, feat_mis, feat_unb))"
      ],
      "metadata": {
        "id": "1JjRKMCv37--"
      },
      "execution_count": null,
      "outputs": []
    },
    {
      "cell_type": "code",
      "source": [
        "matriz_classificacao"
      ],
      "metadata": {
        "colab": {
          "base_uri": "https://localhost:8080/",
          "height": 424
        },
        "id": "Nqm7aO0rp_XO",
        "outputId": "871ffdc8-8936-48eb-98ee-ae1574a6f05d"
      },
      "execution_count": null,
      "outputs": [
        {
          "output_type": "execute_result",
          "data": {
            "text/plain": [
              "       media        pp       rms  cond\n",
              "0   0.000145  0.034675  0.000530     0\n",
              "1   0.000101  0.021863  0.000300     0\n",
              "2   0.000140  0.033161  0.000457     0\n",
              "3   0.000179  0.045774  0.000542     0\n",
              "4   0.000130  0.034868  0.000435     0\n",
              "..       ...       ...       ...   ...\n",
              "45  0.000208  0.136262  0.001174     3\n",
              "46  0.000199  0.193322  0.001188     3\n",
              "47  0.000196  0.204697  0.001204     3\n",
              "48  0.000209  0.145501  0.001201     3\n",
              "49  0.000204  0.155192  0.001209     3\n",
              "\n",
              "[200 rows x 4 columns]"
            ],
            "text/html": [
              "\n",
              "  <div id=\"df-7e0bafda-f4f0-4cf7-906b-b12e51c9a9ea\" class=\"colab-df-container\">\n",
              "    <div>\n",
              "<style scoped>\n",
              "    .dataframe tbody tr th:only-of-type {\n",
              "        vertical-align: middle;\n",
              "    }\n",
              "\n",
              "    .dataframe tbody tr th {\n",
              "        vertical-align: top;\n",
              "    }\n",
              "\n",
              "    .dataframe thead th {\n",
              "        text-align: right;\n",
              "    }\n",
              "</style>\n",
              "<table border=\"1\" class=\"dataframe\">\n",
              "  <thead>\n",
              "    <tr style=\"text-align: right;\">\n",
              "      <th></th>\n",
              "      <th>media</th>\n",
              "      <th>pp</th>\n",
              "      <th>rms</th>\n",
              "      <th>cond</th>\n",
              "    </tr>\n",
              "  </thead>\n",
              "  <tbody>\n",
              "    <tr>\n",
              "      <th>0</th>\n",
              "      <td>0.000145</td>\n",
              "      <td>0.034675</td>\n",
              "      <td>0.000530</td>\n",
              "      <td>0</td>\n",
              "    </tr>\n",
              "    <tr>\n",
              "      <th>1</th>\n",
              "      <td>0.000101</td>\n",
              "      <td>0.021863</td>\n",
              "      <td>0.000300</td>\n",
              "      <td>0</td>\n",
              "    </tr>\n",
              "    <tr>\n",
              "      <th>2</th>\n",
              "      <td>0.000140</td>\n",
              "      <td>0.033161</td>\n",
              "      <td>0.000457</td>\n",
              "      <td>0</td>\n",
              "    </tr>\n",
              "    <tr>\n",
              "      <th>3</th>\n",
              "      <td>0.000179</td>\n",
              "      <td>0.045774</td>\n",
              "      <td>0.000542</td>\n",
              "      <td>0</td>\n",
              "    </tr>\n",
              "    <tr>\n",
              "      <th>4</th>\n",
              "      <td>0.000130</td>\n",
              "      <td>0.034868</td>\n",
              "      <td>0.000435</td>\n",
              "      <td>0</td>\n",
              "    </tr>\n",
              "    <tr>\n",
              "      <th>...</th>\n",
              "      <td>...</td>\n",
              "      <td>...</td>\n",
              "      <td>...</td>\n",
              "      <td>...</td>\n",
              "    </tr>\n",
              "    <tr>\n",
              "      <th>45</th>\n",
              "      <td>0.000208</td>\n",
              "      <td>0.136262</td>\n",
              "      <td>0.001174</td>\n",
              "      <td>3</td>\n",
              "    </tr>\n",
              "    <tr>\n",
              "      <th>46</th>\n",
              "      <td>0.000199</td>\n",
              "      <td>0.193322</td>\n",
              "      <td>0.001188</td>\n",
              "      <td>3</td>\n",
              "    </tr>\n",
              "    <tr>\n",
              "      <th>47</th>\n",
              "      <td>0.000196</td>\n",
              "      <td>0.204697</td>\n",
              "      <td>0.001204</td>\n",
              "      <td>3</td>\n",
              "    </tr>\n",
              "    <tr>\n",
              "      <th>48</th>\n",
              "      <td>0.000209</td>\n",
              "      <td>0.145501</td>\n",
              "      <td>0.001201</td>\n",
              "      <td>3</td>\n",
              "    </tr>\n",
              "    <tr>\n",
              "      <th>49</th>\n",
              "      <td>0.000204</td>\n",
              "      <td>0.155192</td>\n",
              "      <td>0.001209</td>\n",
              "      <td>3</td>\n",
              "    </tr>\n",
              "  </tbody>\n",
              "</table>\n",
              "<p>200 rows × 4 columns</p>\n",
              "</div>\n",
              "    <div class=\"colab-df-buttons\">\n",
              "\n",
              "  <div class=\"colab-df-container\">\n",
              "    <button class=\"colab-df-convert\" onclick=\"convertToInteractive('df-7e0bafda-f4f0-4cf7-906b-b12e51c9a9ea')\"\n",
              "            title=\"Convert this dataframe to an interactive table.\"\n",
              "            style=\"display:none;\">\n",
              "\n",
              "  <svg xmlns=\"http://www.w3.org/2000/svg\" height=\"24px\" viewBox=\"0 -960 960 960\">\n",
              "    <path d=\"M120-120v-720h720v720H120Zm60-500h600v-160H180v160Zm220 220h160v-160H400v160Zm0 220h160v-160H400v160ZM180-400h160v-160H180v160Zm440 0h160v-160H620v160ZM180-180h160v-160H180v160Zm440 0h160v-160H620v160Z\"/>\n",
              "  </svg>\n",
              "    </button>\n",
              "\n",
              "  <style>\n",
              "    .colab-df-container {\n",
              "      display:flex;\n",
              "      gap: 12px;\n",
              "    }\n",
              "\n",
              "    .colab-df-convert {\n",
              "      background-color: #E8F0FE;\n",
              "      border: none;\n",
              "      border-radius: 50%;\n",
              "      cursor: pointer;\n",
              "      display: none;\n",
              "      fill: #1967D2;\n",
              "      height: 32px;\n",
              "      padding: 0 0 0 0;\n",
              "      width: 32px;\n",
              "    }\n",
              "\n",
              "    .colab-df-convert:hover {\n",
              "      background-color: #E2EBFA;\n",
              "      box-shadow: 0px 1px 2px rgba(60, 64, 67, 0.3), 0px 1px 3px 1px rgba(60, 64, 67, 0.15);\n",
              "      fill: #174EA6;\n",
              "    }\n",
              "\n",
              "    .colab-df-buttons div {\n",
              "      margin-bottom: 4px;\n",
              "    }\n",
              "\n",
              "    [theme=dark] .colab-df-convert {\n",
              "      background-color: #3B4455;\n",
              "      fill: #D2E3FC;\n",
              "    }\n",
              "\n",
              "    [theme=dark] .colab-df-convert:hover {\n",
              "      background-color: #434B5C;\n",
              "      box-shadow: 0px 1px 3px 1px rgba(0, 0, 0, 0.15);\n",
              "      filter: drop-shadow(0px 1px 2px rgba(0, 0, 0, 0.3));\n",
              "      fill: #FFFFFF;\n",
              "    }\n",
              "  </style>\n",
              "\n",
              "    <script>\n",
              "      const buttonEl =\n",
              "        document.querySelector('#df-7e0bafda-f4f0-4cf7-906b-b12e51c9a9ea button.colab-df-convert');\n",
              "      buttonEl.style.display =\n",
              "        google.colab.kernel.accessAllowed ? 'block' : 'none';\n",
              "\n",
              "      async function convertToInteractive(key) {\n",
              "        const element = document.querySelector('#df-7e0bafda-f4f0-4cf7-906b-b12e51c9a9ea');\n",
              "        const dataTable =\n",
              "          await google.colab.kernel.invokeFunction('convertToInteractive',\n",
              "                                                    [key], {});\n",
              "        if (!dataTable) return;\n",
              "\n",
              "        const docLinkHtml = 'Like what you see? Visit the ' +\n",
              "          '<a target=\"_blank\" href=https://colab.research.google.com/notebooks/data_table.ipynb>data table notebook</a>'\n",
              "          + ' to learn more about interactive tables.';\n",
              "        element.innerHTML = '';\n",
              "        dataTable['output_type'] = 'display_data';\n",
              "        await google.colab.output.renderOutput(dataTable, element);\n",
              "        const docLink = document.createElement('div');\n",
              "        docLink.innerHTML = docLinkHtml;\n",
              "        element.appendChild(docLink);\n",
              "      }\n",
              "    </script>\n",
              "  </div>\n",
              "\n",
              "\n",
              "<div id=\"df-63b62a72-a854-44f8-8cd5-7fc329881311\">\n",
              "  <button class=\"colab-df-quickchart\" onclick=\"quickchart('df-63b62a72-a854-44f8-8cd5-7fc329881311')\"\n",
              "            title=\"Suggest charts\"\n",
              "            style=\"display:none;\">\n",
              "\n",
              "<svg xmlns=\"http://www.w3.org/2000/svg\" height=\"24px\"viewBox=\"0 0 24 24\"\n",
              "     width=\"24px\">\n",
              "    <g>\n",
              "        <path d=\"M19 3H5c-1.1 0-2 .9-2 2v14c0 1.1.9 2 2 2h14c1.1 0 2-.9 2-2V5c0-1.1-.9-2-2-2zM9 17H7v-7h2v7zm4 0h-2V7h2v10zm4 0h-2v-4h2v4z\"/>\n",
              "    </g>\n",
              "</svg>\n",
              "  </button>\n",
              "\n",
              "<style>\n",
              "  .colab-df-quickchart {\n",
              "      --bg-color: #E8F0FE;\n",
              "      --fill-color: #1967D2;\n",
              "      --hover-bg-color: #E2EBFA;\n",
              "      --hover-fill-color: #174EA6;\n",
              "      --disabled-fill-color: #AAA;\n",
              "      --disabled-bg-color: #DDD;\n",
              "  }\n",
              "\n",
              "  [theme=dark] .colab-df-quickchart {\n",
              "      --bg-color: #3B4455;\n",
              "      --fill-color: #D2E3FC;\n",
              "      --hover-bg-color: #434B5C;\n",
              "      --hover-fill-color: #FFFFFF;\n",
              "      --disabled-bg-color: #3B4455;\n",
              "      --disabled-fill-color: #666;\n",
              "  }\n",
              "\n",
              "  .colab-df-quickchart {\n",
              "    background-color: var(--bg-color);\n",
              "    border: none;\n",
              "    border-radius: 50%;\n",
              "    cursor: pointer;\n",
              "    display: none;\n",
              "    fill: var(--fill-color);\n",
              "    height: 32px;\n",
              "    padding: 0;\n",
              "    width: 32px;\n",
              "  }\n",
              "\n",
              "  .colab-df-quickchart:hover {\n",
              "    background-color: var(--hover-bg-color);\n",
              "    box-shadow: 0 1px 2px rgba(60, 64, 67, 0.3), 0 1px 3px 1px rgba(60, 64, 67, 0.15);\n",
              "    fill: var(--button-hover-fill-color);\n",
              "  }\n",
              "\n",
              "  .colab-df-quickchart-complete:disabled,\n",
              "  .colab-df-quickchart-complete:disabled:hover {\n",
              "    background-color: var(--disabled-bg-color);\n",
              "    fill: var(--disabled-fill-color);\n",
              "    box-shadow: none;\n",
              "  }\n",
              "\n",
              "  .colab-df-spinner {\n",
              "    border: 2px solid var(--fill-color);\n",
              "    border-color: transparent;\n",
              "    border-bottom-color: var(--fill-color);\n",
              "    animation:\n",
              "      spin 1s steps(1) infinite;\n",
              "  }\n",
              "\n",
              "  @keyframes spin {\n",
              "    0% {\n",
              "      border-color: transparent;\n",
              "      border-bottom-color: var(--fill-color);\n",
              "      border-left-color: var(--fill-color);\n",
              "    }\n",
              "    20% {\n",
              "      border-color: transparent;\n",
              "      border-left-color: var(--fill-color);\n",
              "      border-top-color: var(--fill-color);\n",
              "    }\n",
              "    30% {\n",
              "      border-color: transparent;\n",
              "      border-left-color: var(--fill-color);\n",
              "      border-top-color: var(--fill-color);\n",
              "      border-right-color: var(--fill-color);\n",
              "    }\n",
              "    40% {\n",
              "      border-color: transparent;\n",
              "      border-right-color: var(--fill-color);\n",
              "      border-top-color: var(--fill-color);\n",
              "    }\n",
              "    60% {\n",
              "      border-color: transparent;\n",
              "      border-right-color: var(--fill-color);\n",
              "    }\n",
              "    80% {\n",
              "      border-color: transparent;\n",
              "      border-right-color: var(--fill-color);\n",
              "      border-bottom-color: var(--fill-color);\n",
              "    }\n",
              "    90% {\n",
              "      border-color: transparent;\n",
              "      border-bottom-color: var(--fill-color);\n",
              "    }\n",
              "  }\n",
              "</style>\n",
              "\n",
              "  <script>\n",
              "    async function quickchart(key) {\n",
              "      const quickchartButtonEl =\n",
              "        document.querySelector('#' + key + ' button');\n",
              "      quickchartButtonEl.disabled = true;  // To prevent multiple clicks.\n",
              "      quickchartButtonEl.classList.add('colab-df-spinner');\n",
              "      try {\n",
              "        const charts = await google.colab.kernel.invokeFunction(\n",
              "            'suggestCharts', [key], {});\n",
              "      } catch (error) {\n",
              "        console.error('Error during call to suggestCharts:', error);\n",
              "      }\n",
              "      quickchartButtonEl.classList.remove('colab-df-spinner');\n",
              "      quickchartButtonEl.classList.add('colab-df-quickchart-complete');\n",
              "    }\n",
              "    (() => {\n",
              "      let quickchartButtonEl =\n",
              "        document.querySelector('#df-63b62a72-a854-44f8-8cd5-7fc329881311 button');\n",
              "      quickchartButtonEl.style.display =\n",
              "        google.colab.kernel.accessAllowed ? 'block' : 'none';\n",
              "    })();\n",
              "  </script>\n",
              "</div>\n",
              "\n",
              "  <div id=\"id_54ad05de-b804-4f0a-89c7-06d761ca4c0f\">\n",
              "    <style>\n",
              "      .colab-df-generate {\n",
              "        background-color: #E8F0FE;\n",
              "        border: none;\n",
              "        border-radius: 50%;\n",
              "        cursor: pointer;\n",
              "        display: none;\n",
              "        fill: #1967D2;\n",
              "        height: 32px;\n",
              "        padding: 0 0 0 0;\n",
              "        width: 32px;\n",
              "      }\n",
              "\n",
              "      .colab-df-generate:hover {\n",
              "        background-color: #E2EBFA;\n",
              "        box-shadow: 0px 1px 2px rgba(60, 64, 67, 0.3), 0px 1px 3px 1px rgba(60, 64, 67, 0.15);\n",
              "        fill: #174EA6;\n",
              "      }\n",
              "\n",
              "      [theme=dark] .colab-df-generate {\n",
              "        background-color: #3B4455;\n",
              "        fill: #D2E3FC;\n",
              "      }\n",
              "\n",
              "      [theme=dark] .colab-df-generate:hover {\n",
              "        background-color: #434B5C;\n",
              "        box-shadow: 0px 1px 3px 1px rgba(0, 0, 0, 0.15);\n",
              "        filter: drop-shadow(0px 1px 2px rgba(0, 0, 0, 0.3));\n",
              "        fill: #FFFFFF;\n",
              "      }\n",
              "    </style>\n",
              "    <button class=\"colab-df-generate\" onclick=\"generateWithVariable('matriz_classificacao')\"\n",
              "            title=\"Generate code using this dataframe.\"\n",
              "            style=\"display:none;\">\n",
              "\n",
              "  <svg xmlns=\"http://www.w3.org/2000/svg\" height=\"24px\"viewBox=\"0 0 24 24\"\n",
              "       width=\"24px\">\n",
              "    <path d=\"M7,19H8.4L18.45,9,17,7.55,7,17.6ZM5,21V16.75L18.45,3.32a2,2,0,0,1,2.83,0l1.4,1.43a1.91,1.91,0,0,1,.58,1.4,1.91,1.91,0,0,1-.58,1.4L9.25,21ZM18.45,9,17,7.55Zm-12,3A5.31,5.31,0,0,0,4.9,8.1,5.31,5.31,0,0,0,1,6.5,5.31,5.31,0,0,0,4.9,4.9,5.31,5.31,0,0,0,6.5,1,5.31,5.31,0,0,0,8.1,4.9,5.31,5.31,0,0,0,12,6.5,5.46,5.46,0,0,0,6.5,12Z\"/>\n",
              "  </svg>\n",
              "    </button>\n",
              "    <script>\n",
              "      (() => {\n",
              "      const buttonEl =\n",
              "        document.querySelector('#id_54ad05de-b804-4f0a-89c7-06d761ca4c0f button.colab-df-generate');\n",
              "      buttonEl.style.display =\n",
              "        google.colab.kernel.accessAllowed ? 'block' : 'none';\n",
              "\n",
              "      buttonEl.onclick = () => {\n",
              "        google.colab.notebook.generateWithVariable('matriz_classificacao');\n",
              "      }\n",
              "      })();\n",
              "    </script>\n",
              "  </div>\n",
              "\n",
              "    </div>\n",
              "  </div>\n"
            ],
            "application/vnd.google.colaboratory.intrinsic+json": {
              "type": "dataframe",
              "variable_name": "matriz_classificacao",
              "summary": "{\n  \"name\": \"matriz_classificacao\",\n  \"rows\": 200,\n  \"fields\": [\n    {\n      \"column\": \"media\",\n      \"properties\": {\n        \"dtype\": \"number\",\n        \"std\": 0.0005034007072168852,\n        \"min\": 9.778495859279723e-05,\n        \"max\": 0.00178848703507014,\n        \"num_unique_values\": 200,\n        \"samples\": [\n          0.0012011806217964497,\n          0.00017618663122878785,\n          0.00015066523851864716\n        ],\n        \"semantic_type\": \"\",\n        \"description\": \"\"\n      }\n    },\n    {\n      \"column\": \"pp\",\n      \"properties\": {\n        \"dtype\": \"number\",\n        \"std\": 0.21573999106722933,\n        \"min\": 0.021863454355034867,\n        \"max\": 0.9999995388242771,\n        \"num_unique_values\": 200,\n        \"samples\": [\n          0.1470572435507847,\n          0.04479983375459843,\n          0.044481898238471845\n        ],\n        \"semantic_type\": \"\",\n        \"description\": \"\"\n      }\n    },\n    {\n      \"column\": \"rms\",\n      \"properties\": {\n        \"dtype\": \"number\",\n        \"std\": 0.0020445752156417096,\n        \"min\": 0.0002886922750895401,\n        \"max\": 0.007788984952428818,\n        \"num_unique_values\": 200,\n        \"samples\": [\n          0.004132834421489985,\n          0.0005353559509958301,\n          0.0005450883597636803\n        ],\n        \"semantic_type\": \"\",\n        \"description\": \"\"\n      }\n    },\n    {\n      \"column\": \"cond\",\n      \"properties\": {\n        \"dtype\": \"number\",\n        \"std\": 1,\n        \"min\": 0,\n        \"max\": 3,\n        \"num_unique_values\": 4,\n        \"samples\": [\n          1,\n          3,\n          0\n        ],\n        \"semantic_type\": \"\",\n        \"description\": \"\"\n      }\n    }\n  ]\n}"
            }
          },
          "metadata": {},
          "execution_count": 18
        }
      ]
    },
    {
      "cell_type": "markdown",
      "source": [
        "### Classificador ANN Dados Originais"
      ],
      "metadata": {
        "id": "9KM3fI5h10eP"
      }
    },
    {
      "cell_type": "code",
      "source": [
        "X = matriz_classificacao.drop('cond', axis=1)\n",
        "y = matriz_classificacao['cond']"
      ],
      "metadata": {
        "id": "QR-dHwLdykHb"
      },
      "execution_count": null,
      "outputs": []
    },
    {
      "cell_type": "code",
      "source": [
        "import numpy as np\n",
        "import tensorflow as tf\n",
        "from tensorflow.keras.models import Sequential\n",
        "from tensorflow.keras.layers import Dense\n",
        "from sklearn.model_selection import train_test_split\n",
        "from sklearn.preprocessing import StandardScaler\n",
        "from sklearn.metrics import classification_report, confusion_matrix, accuracy_score\n",
        "\n",
        "\n",
        "\n",
        "# Dividindo em conjunto de treino e teste\n",
        "X_train, X_test, y_train, y_test = train_test_split(X, y, test_size=0.2, random_state=42)\n",
        "\n",
        "# Padronizando os dados\n",
        "scaler = StandardScaler()\n",
        "X_train = scaler.fit_transform(X_train)\n",
        "X_test = scaler.transform(X_test)\n",
        "\n",
        "y_train = tf.keras.utils.to_categorical(y_train, num_classes=4)\n",
        "y_test = tf.keras.utils.to_categorical(y_test, num_classes=4)\n",
        "\n",
        "# Construindo o modelo\n",
        "model = Sequential()\n",
        "model.add(Dense(32, input_dim=3, activation='relu'))  # Primeira camada oculta com 12 neurônios\n",
        "model.add(Dense(16, activation='relu'))                # Segunda camada oculta com 8 neurônios\n",
        "model.add(Dense(4, activation='softmax'))             # Camada de saída com 1 neurônio e ativação sigmoid para classificação binária\n",
        "\n",
        "# Compilando o modelo\n",
        "model.compile(loss='categorical_crossentropy', optimizer='adam', metrics=['accuracy'])\n",
        "\n",
        "# Treinando o modelo\n",
        "history=model.fit(X_train, y_train, epochs=50, batch_size=10, validation_data=(X_test, y_test))\n",
        "\n",
        "# Avaliando o modelo\n",
        "loss, accuracy = model.evaluate(X_test, y_test)\n",
        "print(f\"Loss: {loss}\")\n",
        "print(f\"Accuracy: {accuracy}\")"
      ],
      "metadata": {
        "colab": {
          "base_uri": "https://localhost:8080/"
        },
        "id": "fQHEOvYo1mtz",
        "outputId": "79233f1a-c4d9-4b35-c730-770c5f7f7a71"
      },
      "execution_count": null,
      "outputs": [
        {
          "output_type": "stream",
          "name": "stdout",
          "text": [
            "Epoch 1/50\n",
            "16/16 [==============================] - 1s 22ms/step - loss: 1.4264 - accuracy: 0.3187 - val_loss: 1.3700 - val_accuracy: 0.3750\n",
            "Epoch 2/50\n",
            "16/16 [==============================] - 0s 6ms/step - loss: 1.2124 - accuracy: 0.5312 - val_loss: 1.1868 - val_accuracy: 0.4000\n",
            "Epoch 3/50\n",
            "16/16 [==============================] - 0s 6ms/step - loss: 1.0422 - accuracy: 0.6625 - val_loss: 1.0410 - val_accuracy: 0.6500\n",
            "Epoch 4/50\n",
            "16/16 [==============================] - 0s 6ms/step - loss: 0.9092 - accuracy: 0.7375 - val_loss: 0.9312 - val_accuracy: 0.6500\n",
            "Epoch 5/50\n",
            "16/16 [==============================] - 0s 9ms/step - loss: 0.7986 - accuracy: 0.7375 - val_loss: 0.8418 - val_accuracy: 0.6500\n",
            "Epoch 6/50\n",
            "16/16 [==============================] - 0s 6ms/step - loss: 0.7065 - accuracy: 0.7375 - val_loss: 0.7607 - val_accuracy: 0.6500\n",
            "Epoch 7/50\n",
            "16/16 [==============================] - 0s 6ms/step - loss: 0.6242 - accuracy: 0.7375 - val_loss: 0.6954 - val_accuracy: 0.6500\n",
            "Epoch 8/50\n",
            "16/16 [==============================] - 0s 6ms/step - loss: 0.5571 - accuracy: 0.7375 - val_loss: 0.6382 - val_accuracy: 0.6500\n",
            "Epoch 9/50\n",
            "16/16 [==============================] - 0s 6ms/step - loss: 0.5027 - accuracy: 0.7375 - val_loss: 0.5946 - val_accuracy: 0.6500\n",
            "Epoch 10/50\n",
            "16/16 [==============================] - 0s 8ms/step - loss: 0.4604 - accuracy: 0.8000 - val_loss: 0.5549 - val_accuracy: 0.7000\n",
            "Epoch 11/50\n",
            "16/16 [==============================] - 0s 8ms/step - loss: 0.4217 - accuracy: 0.8125 - val_loss: 0.5301 - val_accuracy: 0.6750\n",
            "Epoch 12/50\n",
            "16/16 [==============================] - 0s 7ms/step - loss: 0.3915 - accuracy: 0.8375 - val_loss: 0.5031 - val_accuracy: 0.8250\n",
            "Epoch 13/50\n",
            "16/16 [==============================] - 0s 7ms/step - loss: 0.3683 - accuracy: 0.8938 - val_loss: 0.4774 - val_accuracy: 0.8500\n",
            "Epoch 14/50\n",
            "16/16 [==============================] - 0s 8ms/step - loss: 0.3431 - accuracy: 0.8813 - val_loss: 0.4654 - val_accuracy: 0.8500\n",
            "Epoch 15/50\n",
            "16/16 [==============================] - 0s 7ms/step - loss: 0.3201 - accuracy: 0.9125 - val_loss: 0.4420 - val_accuracy: 0.9000\n",
            "Epoch 16/50\n",
            "16/16 [==============================] - 0s 6ms/step - loss: 0.2996 - accuracy: 0.9500 - val_loss: 0.4265 - val_accuracy: 0.9000\n",
            "Epoch 17/50\n",
            "16/16 [==============================] - 0s 7ms/step - loss: 0.2801 - accuracy: 0.9500 - val_loss: 0.4140 - val_accuracy: 0.9000\n",
            "Epoch 18/50\n",
            "16/16 [==============================] - 0s 7ms/step - loss: 0.2623 - accuracy: 0.9625 - val_loss: 0.3995 - val_accuracy: 0.9000\n",
            "Epoch 19/50\n",
            "16/16 [==============================] - 0s 8ms/step - loss: 0.2450 - accuracy: 0.9750 - val_loss: 0.3837 - val_accuracy: 0.9000\n",
            "Epoch 20/50\n",
            "16/16 [==============================] - 0s 7ms/step - loss: 0.2272 - accuracy: 0.9750 - val_loss: 0.3728 - val_accuracy: 0.9000\n",
            "Epoch 21/50\n",
            "16/16 [==============================] - 0s 7ms/step - loss: 0.2133 - accuracy: 0.9812 - val_loss: 0.3591 - val_accuracy: 0.9000\n",
            "Epoch 22/50\n",
            "16/16 [==============================] - 0s 9ms/step - loss: 0.1989 - accuracy: 0.9625 - val_loss: 0.3474 - val_accuracy: 0.9000\n",
            "Epoch 23/50\n",
            "16/16 [==============================] - 0s 8ms/step - loss: 0.1820 - accuracy: 0.9812 - val_loss: 0.3292 - val_accuracy: 0.9000\n",
            "Epoch 24/50\n",
            "16/16 [==============================] - 0s 8ms/step - loss: 0.1696 - accuracy: 0.9812 - val_loss: 0.3188 - val_accuracy: 0.9000\n",
            "Epoch 25/50\n",
            "16/16 [==============================] - 0s 8ms/step - loss: 0.1575 - accuracy: 0.9812 - val_loss: 0.3061 - val_accuracy: 0.9000\n",
            "Epoch 26/50\n",
            "16/16 [==============================] - 0s 9ms/step - loss: 0.1443 - accuracy: 0.9812 - val_loss: 0.2961 - val_accuracy: 0.9000\n",
            "Epoch 27/50\n",
            "16/16 [==============================] - 0s 7ms/step - loss: 0.1325 - accuracy: 0.9875 - val_loss: 0.2844 - val_accuracy: 0.9000\n",
            "Epoch 28/50\n",
            "16/16 [==============================] - 0s 5ms/step - loss: 0.1232 - accuracy: 0.9812 - val_loss: 0.2702 - val_accuracy: 0.9000\n",
            "Epoch 29/50\n",
            "16/16 [==============================] - 0s 5ms/step - loss: 0.1135 - accuracy: 0.9812 - val_loss: 0.2598 - val_accuracy: 0.9000\n",
            "Epoch 30/50\n",
            "16/16 [==============================] - 0s 5ms/step - loss: 0.1061 - accuracy: 0.9812 - val_loss: 0.2521 - val_accuracy: 0.9000\n",
            "Epoch 31/50\n",
            "16/16 [==============================] - 0s 4ms/step - loss: 0.0978 - accuracy: 0.9875 - val_loss: 0.2431 - val_accuracy: 0.9000\n",
            "Epoch 32/50\n",
            "16/16 [==============================] - 0s 6ms/step - loss: 0.0906 - accuracy: 0.9875 - val_loss: 0.2350 - val_accuracy: 0.9000\n",
            "Epoch 33/50\n",
            "16/16 [==============================] - 0s 5ms/step - loss: 0.0848 - accuracy: 0.9875 - val_loss: 0.2322 - val_accuracy: 0.9000\n",
            "Epoch 34/50\n",
            "16/16 [==============================] - 0s 5ms/step - loss: 0.0787 - accuracy: 0.9875 - val_loss: 0.2254 - val_accuracy: 0.9000\n",
            "Epoch 35/50\n",
            "16/16 [==============================] - 0s 5ms/step - loss: 0.0741 - accuracy: 0.9875 - val_loss: 0.2170 - val_accuracy: 0.9000\n",
            "Epoch 36/50\n",
            "16/16 [==============================] - 0s 5ms/step - loss: 0.0684 - accuracy: 0.9875 - val_loss: 0.2050 - val_accuracy: 0.9000\n",
            "Epoch 37/50\n",
            "16/16 [==============================] - 0s 6ms/step - loss: 0.0647 - accuracy: 0.9875 - val_loss: 0.1949 - val_accuracy: 0.9000\n",
            "Epoch 38/50\n",
            "16/16 [==============================] - 0s 6ms/step - loss: 0.0603 - accuracy: 0.9875 - val_loss: 0.1892 - val_accuracy: 0.9000\n",
            "Epoch 39/50\n",
            "16/16 [==============================] - 0s 4ms/step - loss: 0.0582 - accuracy: 0.9875 - val_loss: 0.1811 - val_accuracy: 0.9000\n",
            "Epoch 40/50\n",
            "16/16 [==============================] - 0s 4ms/step - loss: 0.0527 - accuracy: 0.9875 - val_loss: 0.1778 - val_accuracy: 0.9000\n",
            "Epoch 41/50\n",
            "16/16 [==============================] - 0s 4ms/step - loss: 0.0508 - accuracy: 0.9875 - val_loss: 0.1739 - val_accuracy: 0.9000\n",
            "Epoch 42/50\n",
            "16/16 [==============================] - 0s 5ms/step - loss: 0.0482 - accuracy: 0.9937 - val_loss: 0.1645 - val_accuracy: 0.9000\n",
            "Epoch 43/50\n",
            "16/16 [==============================] - 0s 4ms/step - loss: 0.0446 - accuracy: 0.9937 - val_loss: 0.1568 - val_accuracy: 0.9000\n",
            "Epoch 44/50\n",
            "16/16 [==============================] - 0s 6ms/step - loss: 0.0427 - accuracy: 0.9937 - val_loss: 0.1567 - val_accuracy: 0.9000\n",
            "Epoch 45/50\n",
            "16/16 [==============================] - 0s 5ms/step - loss: 0.0399 - accuracy: 0.9937 - val_loss: 0.1472 - val_accuracy: 0.9000\n",
            "Epoch 46/50\n",
            "16/16 [==============================] - 0s 5ms/step - loss: 0.0379 - accuracy: 0.9937 - val_loss: 0.1468 - val_accuracy: 0.9000\n",
            "Epoch 47/50\n",
            "16/16 [==============================] - 0s 4ms/step - loss: 0.0366 - accuracy: 1.0000 - val_loss: 0.1368 - val_accuracy: 0.9000\n",
            "Epoch 48/50\n",
            "16/16 [==============================] - 0s 6ms/step - loss: 0.0347 - accuracy: 1.0000 - val_loss: 0.1337 - val_accuracy: 0.9250\n",
            "Epoch 49/50\n",
            "16/16 [==============================] - 0s 5ms/step - loss: 0.0325 - accuracy: 1.0000 - val_loss: 0.1312 - val_accuracy: 0.9250\n",
            "Epoch 50/50\n",
            "16/16 [==============================] - 0s 5ms/step - loss: 0.0315 - accuracy: 1.0000 - val_loss: 0.1279 - val_accuracy: 0.9250\n",
            "2/2 [==============================] - 0s 9ms/step - loss: 0.1279 - accuracy: 0.9250\n",
            "Loss: 0.12789778411388397\n",
            "Accuracy: 0.925000011920929\n"
          ]
        }
      ]
    },
    {
      "cell_type": "code",
      "source": [
        "# Fazer previsões com o conjunto de teste\n",
        "y_pred_ANN = model.predict(X_test)\n",
        "y_pred_classes_ANN = np.argmax(y_pred_ANN, axis=1)\n",
        "\n",
        "# Avaliar o desempenho do modelo\n",
        "accuracy = accuracy_score(np.argmax(y_test, axis=1), y_pred_classes_ANN)\n",
        "print(f\"Acurácia: {accuracy:.2f}\")\n",
        "\n",
        "# Mostrar relatório de classificação\n",
        "print(\"Relatório de classificação:\")\n",
        "print(classification_report(np.argmax(y_test, axis=1), y_pred_classes_ANN))\n",
        "\n",
        "# Mostrar matriz de confusão\n",
        "print(\"Matriz de confusão:\")\n",
        "print(confusion_matrix(np.argmax(y_test, axis=1), y_pred_classes_ANN))\n",
        "\n",
        "# Exibir o histórico de treinamento\n",
        "import matplotlib.pyplot as plt\n",
        "\n",
        "plt.plot(history.history['accuracy'], label='Acurácia de treinamento')\n",
        "plt.plot(history.history['val_accuracy'], label='Acurácia de validação')\n",
        "plt.xlabel('Épocas')\n",
        "plt.ylabel('Acurácia')\n",
        "plt.legend()\n",
        "plt.show()"
      ],
      "metadata": {
        "colab": {
          "base_uri": "https://localhost:8080/",
          "height": 781
        },
        "id": "9U3JNK9ftGq-",
        "outputId": "04487d46-e141-4b44-9d51-698072ef4ed5"
      },
      "execution_count": null,
      "outputs": [
        {
          "output_type": "stream",
          "name": "stdout",
          "text": [
            "2/2 [==============================] - 0s 11ms/step\n",
            "Acurácia: 0.93\n",
            "Relatório de classificação:\n",
            "              precision    recall  f1-score   support\n",
            "\n",
            "           0       1.00      1.00      1.00         6\n",
            "           1       1.00      0.80      0.89        15\n",
            "           2       0.75      1.00      0.86         9\n",
            "           3       1.00      1.00      1.00        10\n",
            "\n",
            "    accuracy                           0.93        40\n",
            "   macro avg       0.94      0.95      0.94        40\n",
            "weighted avg       0.94      0.93      0.93        40\n",
            "\n",
            "Matriz de confusão:\n",
            "[[ 6  0  0  0]\n",
            " [ 0 12  3  0]\n",
            " [ 0  0  9  0]\n",
            " [ 0  0  0 10]]\n"
          ]
        },
        {
          "output_type": "display_data",
          "data": {
            "text/plain": [
              "<Figure size 640x480 with 1 Axes>"
            ],
            "image/png": "[encoded data removed]"
          },
          "metadata": {}
        }
      ]
    },
    {
      "cell_type": "markdown",
      "source": [
        "### Classificador SVM Dados Originais"
      ],
      "metadata": {
        "id": "h8xBG3v7yJml"
      }
    },
    {
      "cell_type": "code",
      "source": [
        "from sklearn.model_selection import train_test_split\n",
        "x_train, x_test, y_train, y_test = train_test_split(X, y, test_size=0.2, random_state=0)"
      ],
      "metadata": {
        "id": "0RLD7SZZF9Pf"
      },
      "execution_count": null,
      "outputs": []
    },
    {
      "cell_type": "code",
      "source": [
        "method_names = []\n",
        "method_scores = []\n",
        "from sklearn.svm import SVC\n",
        "svm = SVC(random_state=42)\n",
        "svm.fit(x_train,y_train)\n",
        "print(\"SVM Classification Score is: {}\".format(svm.score(x_test,y_test)))\n",
        "method_names.append(\"SVM\")\n",
        "method_scores.append(svm.score(x_test,y_test))\n",
        "\n",
        "#Confusion Matrix\n",
        "y_pred = svm.predict(x_test)\n",
        "conf_mat = confusion_matrix(y_test,y_pred)\n",
        "#Visualization Confusion Matrix\n",
        "f, ax = plt.subplots(figsize=(5,5))\n",
        "sns.heatmap(conf_mat,annot=True,linewidths=0.5,linecolor=\"red\",fmt=\".0f\",ax=ax)\n",
        "plt.xlabel(\"Predicted Values\")\n",
        "plt.ylabel(\"True Values\")\n",
        "plt.show()"
      ],
      "metadata": {
        "colab": {
          "base_uri": "https://localhost:8080/",
          "height": 487
        },
        "id": "hdRQoN8EyfqA",
        "outputId": "4e907517-2252-46a7-f6f2-6842d636b123"
      },
      "execution_count": null,
      "outputs": [
        {
          "output_type": "stream",
          "name": "stdout",
          "text": [
            "SVM Classification Score is: 0.9\n"
          ]
        },
        {
          "output_type": "display_data",
          "data": {
            "text/plain": [
              "<Figure size 500x500 with 2 Axes>"
            ],
            "image/png": "[encoded data removed]"
          },
          "metadata": {}
        }
      ]
    },
    {
      "cell_type": "code",
      "source": [
        "import seaborn as sns\n",
        "# Confusion Matrix\n",
        "from sklearn.metrics import confusion_matrix\n",
        "cm = confusion_matrix(y_test, y_pred)\n",
        "cm_matrix = pd.DataFrame(data=cm, columns=['0', '1','2','3'],\n",
        "                                 index=['0', '1','2','3'])\n",
        "\n",
        "sns.heatmap(cm_matrix, annot=True, fmt='d', cmap='mako')"
      ],
      "metadata": {
        "colab": {
          "base_uri": "https://localhost:8080/",
          "height": 452
        },
        "id": "D3-W30oIyvkK",
        "outputId": "f09b00f9-3dea-431d-eaf5-1b3fa3c0900c"
      },
      "execution_count": null,
      "outputs": [
        {
          "output_type": "execute_result",
          "data": {
            "text/plain": [
              "<Axes: >"
            ]
          },
          "metadata": {},
          "execution_count": 26
        },
        {
          "output_type": "display_data",
          "data": {
            "text/plain": [
              "<Figure size 640x480 with 2 Axes>"
            ],
            "image/png": "[encoded data removed]"
          },
          "metadata": {}
        }
      ]
    },
    {
      "cell_type": "code",
      "source": [],
      "metadata": {
        "id": "ncjTTvGN0AzY"
      },
      "execution_count": null,
      "outputs": []
    },
    {
      "cell_type": "markdown",
      "source": [],
      "metadata": {
        "id": "o8D1K8rKBRlu"
      }
    },
    {
      "cell_type": "markdown",
      "source": [
        "### Classificador KNN Dados Originais"
      ],
      "metadata": {
        "id": "1Xy8yDjJbdXW"
      }
    },
    {
      "cell_type": "code",
      "source": [
        "from sklearn.neighbors import KNeighborsClassifier\n",
        "score_list=[]\n",
        "for each in range(1,15):\n",
        "    knn2 = KNeighborsClassifier(n_neighbors=each)\n",
        "    knn2.fit(x_train,y_train)\n",
        "    score_list.append(knn2.score(x_test,y_test))\n",
        "\n",
        "plt.plot(range(1,15),score_list)\n",
        "plt.xlabel(\"k values\")\n",
        "plt.ylabel(\"score\")"
      ],
      "metadata": {
        "colab": {
          "base_uri": "https://localhost:8080/",
          "height": 466
        },
        "id": "40KV_yJBbhYY",
        "outputId": "4277ccd2-4aeb-4a41-ea2e-5e4d9a0f656e"
      },
      "execution_count": null,
      "outputs": [
        {
          "output_type": "execute_result",
          "data": {
            "text/plain": [
              "Text(0, 0.5, 'score')"
            ]
          },
          "metadata": {},
          "execution_count": 93
        },
        {
          "output_type": "display_data",
          "data": {
            "text/plain": [
              "<Figure size 640x480 with 1 Axes>"
            ],
            "image/png": "[encoded data removed]"
          },
          "metadata": {}
        }
      ]
    },
    {
      "cell_type": "code",
      "source": [
        "knn = KNeighborsClassifier(n_neighbors=4)\n",
        "knn.fit(x_train,y_train)\n",
        "print(\"Score for Number of Neighbors = 4: {}\".format(knn.score(x_test,y_test)))\n",
        "\n",
        "#Confusion Matrix\n",
        "y_pred = knn.predict(x_test)\n",
        "conf_mat = confusion_matrix(y_test,y_pred)\n",
        "#Visualization Confusion Matrix\n",
        "f, ax = plt.subplots(figsize=(5,5))\n",
        "sns.heatmap(conf_mat,annot=True,linewidths=0.5,linecolor=\"red\",fmt=\".0f\",ax=ax)\n",
        "plt.xlabel(\"Predicted Values\")\n",
        "plt.ylabel(\"True Values\")\n",
        "plt.show()"
      ],
      "metadata": {
        "colab": {
          "base_uri": "https://localhost:8080/",
          "height": 482
        },
        "id": "A2v8ZyBKbhLC",
        "outputId": "4fd1cf37-50fc-45dc-d0c5-3d48a0bac5d5"
      },
      "execution_count": null,
      "outputs": [
        {
          "output_type": "stream",
          "name": "stdout",
          "text": [
            "Score for Number of Neighbors = 4: 0.8\n"
          ]
        },
        {
          "output_type": "display_data",
          "data": {
            "text/plain": [
              "<Figure size 500x500 with 2 Axes>"
            ],
            "image/png": "[encoded data removed]"
          },
          "metadata": {}
        }
      ]
    },
    {
      "cell_type": "markdown",
      "source": [
        "### Transformador Dados, KDE, Wave\n",
        "\n",
        "\n"
      ],
      "metadata": {
        "id": "XOoDYzYhBTNA"
      }
    },
    {
      "cell_type": "code",
      "source": [
        "def dividir_array_em_partes(array, num_partes):\n",
        "    tamanho_parte = len(array) // num_partes\n",
        "    partes = [array[i:i + tamanho_parte] for i in range(0, len(array), tamanho_parte)]\n",
        "    return partes\n",
        "def madev(d, axis=None):\n",
        "    \"\"\" Mean absolute deviation of a signal \"\"\"\n",
        "    return np.mean(np.absolute(d - np.mean(d, axis)), axis)\n",
        "def wavelet_denoising(x, wavelet='bior3.9', level=1):\n",
        "    coeff = pywt.wavedec(x, wavelet, mode=\"per\")\n",
        "    sigma = (1/0.6745) * madev(coeff[-level])\n",
        "    uthresh = sigma * np.sqrt(2 * np.log(len(x)))\n",
        "    coeff[1:] = (pywt.threshold(i, value=uthresh, mode='soft') for i in coeff[1:])\n",
        "    return pywt.waverec(coeff, wavelet, mode='per')\n",
        "def expandir_array(row):\n",
        "    return pd.Series(row[0])"
      ],
      "metadata": {
        "id": "tEdOeSbCBU-x"
      },
      "execution_count": null,
      "outputs": []
    },
    {
      "cell_type": "code",
      "source": [
        "import numpy as np\n",
        "from scipy.fft import rfft, irfft, fft, ifft\n",
        "from scipy.signal import find_peaks\n",
        "from sklearn.neighbors import KernelDensity\n",
        "from sklearn.model_selection import GridSearchCV\n",
        "import matplotlib.pyplot as plt"
      ],
      "metadata": {
        "id": "WNdqJI5sFW2y"
      },
      "execution_count": null,
      "outputs": []
    },
    {
      "cell_type": "code",
      "source": [
        "wave_mis = pd.DataFrame(dados_mis.iloc[:50,:].apply(wavelet_denoising,axis=1))\n",
        "wave_unb = pd.DataFrame(dados_unb.iloc[:50,:].apply(wavelet_denoising,axis=1))"
      ],
      "metadata": {
        "id": "o3ECKY_MFaaj"
      },
      "execution_count": null,
      "outputs": []
    },
    {
      "cell_type": "code",
      "source": [
        "wave_mis = wave_mis.apply(expandir_array, axis=1)\n",
        "wave_unb = wave_unb.apply(expandir_array, axis=1)"
      ],
      "metadata": {
        "id": "eEEkHOD7F7oD"
      },
      "execution_count": null,
      "outputs": []
    },
    {
      "cell_type": "code",
      "source": [
        "wave_mis.to_csv('/content/drive/My Drive/DADOS DOUTORADO/Wave_KDE/wave_mis.csv', index=False)\n",
        "wave_unb.to_csv('/content/drive/My Drive/DADOS DOUTORADO/Wave_KDE/wave_unb.csv', index=False)"
      ],
      "metadata": {
        "id": "9Y3bFSLPIfvn"
      },
      "execution_count": null,
      "outputs": []
    },
    {
      "cell_type": "code",
      "source": [
        "def calculate_rfft(signal):\n",
        "    signal = np.ascontiguousarray(signal)\n",
        "    rfft_sig = rfft(signal)\n",
        "    rfft_sig_abs = abs(rfft_sig)\n",
        "\n",
        "    return rfft_sig,rfft_sig_abs\n",
        "\n",
        "def apply_kde(signal_fft, bandwidth):\n",
        "    kde = KernelDensity(kernel='gaussian', bandwidth=bandwidth)\n",
        "    kde.fit(signal_fft[:, None])\n",
        "    return kde\n",
        "\n",
        "def grid_search_bandwidth(signal_fft, bandwidth_range):\n",
        "    grid = GridSearchCV(KernelDensity(kernel='gaussian'),\n",
        "                        {'bandwidth': bandwidth_range},\n",
        "                        cv=5)  # 5-fold cross-validation\n",
        "    grid.fit(signal_fft[:, None])\n",
        "    return grid.best_params_['bandwidth']\n",
        "\n",
        "def find_threshold(signal_fft, kde):\n",
        "    log_density = kde.score_samples(signal_fft[:, None])\n",
        "    density = np.exp(log_density)\n",
        "    # Find peaks based on KDE density\n",
        "    peaks, _ = find_peaks(density)\n",
        "    return peaks\n",
        "\n",
        "def filter_signal(signal_fft, peaks):\n",
        "    filtered_fft = np.zeros_like(signal_fft)\n",
        "    filtered_fft[peaks] = signal_fft[peaks]\n",
        "    return filtered_fft"
      ],
      "metadata": {
        "id": "q_AXq6LTGEsz"
      },
      "execution_count": null,
      "outputs": []
    },
    {
      "cell_type": "code",
      "source": [
        "def main(signal):\n",
        "    # Calculate the rFFT of the signal\n",
        "    signal_fft = calculate_rfft(signal)\n",
        "\n",
        "    # Grid search to find the best bandwidth\n",
        "    #bandwidth_range = np.linspace(5, 10, 50)\n",
        "    #best_bandwidth = grid_search_bandwidth(signal_fft[1], bandwidth_range)\n",
        "    #print(best_bandwidth)\n",
        "\n",
        "    # Apply KDE with the best bandwidth\n",
        "    kde = apply_kde(signal_fft[1], 9)\n",
        "\n",
        "    # Find the best threshold for separating peaks and noise\n",
        "    peaks = find_threshold(signal_fft[1], kde)\n",
        "\n",
        "\n",
        "    # Filter the signal by keeping only the peaks\n",
        "    filtered_fft = filter_signal(signal_fft[0], peaks)\n",
        "\n",
        "    # Perform inverse FFT to get back to time domain\n",
        "    filtered_signal = irfft(filtered_fft)\n",
        "\n",
        "    #filtered_data = []\n",
        "\n",
        "    #for i in range(len(filtered_signal) - 3 + 1):\n",
        "    #  window = filtered_signal[i:i+3]\n",
        "    #  median = np.median(window)\n",
        "    #  filtered_data.append(median)\n",
        "\n",
        "    return filtered_signal"
      ],
      "metadata": {
        "id": "U16DPe1VGJ3n"
      },
      "execution_count": null,
      "outputs": []
    },
    {
      "cell_type": "code",
      "source": [
        "mis_filtrado_KDE = pd.DataFrame()\n",
        "#filtered_data = []\n",
        "for i in range(50):\n",
        "  arranjo = dados_mis.iloc[i].values\n",
        "  divisao = dividir_array_em_partes(arranjo,50)\n",
        "  divisao_df = pd.DataFrame(divisao)\n",
        "  divisao_df_drop = divisao_df.drop(divisao_df.index[-1])\n",
        "  divisao_filtrada = divisao_df_drop.apply(main,axis=1)\n",
        "  divisao_filtrada_df = pd.DataFrame(divisao_filtrada)\n",
        "  #div_fil_memdian = divisao_filtrada_df.apply(median_filter, axis=1)\n",
        "  #div_fil_memdian_df = pd.DataFrame(div_fil_memdian)\n",
        "  matriz_expandida = divisao_filtrada_df.apply(expandir_array, axis=1)\n",
        "\n",
        "  df_transformado = pd.DataFrame((matriz_expandida.values.flatten()).T).T\n",
        "  mis_filtrado_KDE = pd.concat([mis_filtrado_KDE,df_transformado])"
      ],
      "metadata": {
        "id": "k3k9__zhGLkr"
      },
      "execution_count": null,
      "outputs": []
    },
    {
      "cell_type": "code",
      "source": [
        "mis_filtrado_KDE.to_csv('/content/drive/My Drive/DADOS DOUTORADO/Wave_KDE/KDE_mis.csv', index=False)"
      ],
      "metadata": {
        "id": "jlq3jJeOPQ2X"
      },
      "execution_count": null,
      "outputs": []
    },
    {
      "cell_type": "code",
      "source": [
        "mis_filtrado_KDE_Wave = pd.DataFrame()\n",
        "#filtered_data = []\n",
        "for i in range(50):\n",
        "  arranjo = wave_mis.iloc[i].values\n",
        "  divisao = dividir_array_em_partes(arranjo,50)\n",
        "  divisao_df = pd.DataFrame(divisao)\n",
        "  divisao_df_drop = divisao_df.drop(divisao_df.index[-1])\n",
        "  divisao_filtrada = divisao_df_drop.apply(main,axis=1)\n",
        "  divisao_filtrada_df = pd.DataFrame(divisao_filtrada)\n",
        "  #div_fil_memdian = divisao_filtrada_df.apply(median_filter, axis=1)\n",
        "  #div_fil_memdian_df = pd.DataFrame(div_fil_memdian)\n",
        "  matriz_expandida = divisao_filtrada_df.apply(expandir_array, axis=1)\n",
        "\n",
        "  df_transformado = pd.DataFrame((matriz_expandida.values.flatten()).T).T\n",
        "  mis_filtrado_KDE_Wave = pd.concat([mis_filtrado_KDE_Wave,df_transformado])"
      ],
      "metadata": {
        "id": "5euSl2d6HRC0"
      },
      "execution_count": null,
      "outputs": []
    },
    {
      "cell_type": "code",
      "source": [
        "mis_filtrado_KDE_Wave.to_csv('/content/drive/My Drive/DADOS DOUTORADO/Wave_KDE/wave_KDE_mis.csv', index=False)"
      ],
      "metadata": {
        "id": "uF0EJ7N_Ptv6"
      },
      "execution_count": null,
      "outputs": []
    },
    {
      "cell_type": "code",
      "source": [
        "unb_filtrado_KDE = pd.DataFrame()\n",
        "#filtered_data = []\n",
        "for i in range(50):\n",
        "  arranjo = dados_unb.iloc[i].values\n",
        "  divisao = dividir_array_em_partes(arranjo,50)\n",
        "  divisao_df = pd.DataFrame(divisao)\n",
        "  divisao_df_drop = divisao_df.drop(divisao_df.index[-1])\n",
        "  divisao_filtrada = divisao_df_drop.apply(main,axis=1)\n",
        "  divisao_filtrada_df = pd.DataFrame(divisao_filtrada)\n",
        "  #div_fil_memdian = divisao_filtrada_df.apply(median_filter, axis=1)\n",
        "  #div_fil_memdian_df = pd.DataFrame(div_fil_memdian)\n",
        "  matriz_expandida = divisao_filtrada_df.apply(expandir_array, axis=1)\n",
        "\n",
        "  df_transformado = pd.DataFrame((matriz_expandida.values.flatten()).T).T\n",
        "  unb_filtrado_KDE = pd.concat([unb_filtrado_KDE,df_transformado])"
      ],
      "metadata": {
        "id": "uPJce6PEQwja"
      },
      "execution_count": null,
      "outputs": []
    },
    {
      "cell_type": "code",
      "source": [
        "unb_filtrado_KDE.to_csv('/content/drive/My Drive/DADOS DOUTORADO/Wave_KDE/KDE_unb.csv', index=False)"
      ],
      "metadata": {
        "id": "e7AieXR7Q9pz"
      },
      "execution_count": null,
      "outputs": []
    },
    {
      "cell_type": "code",
      "source": [
        "unb_filtrado_KDE_Wave = pd.DataFrame()\n",
        "#filtered_data = []\n",
        "for i in range(50):\n",
        "  arranjo = dados_unb.iloc[i].values\n",
        "  divisao = dividir_array_em_partes(arranjo,50)\n",
        "  divisao_df = pd.DataFrame(divisao)\n",
        "  divisao_df_drop = divisao_df.drop(divisao_df.index[-1])\n",
        "  divisao_filtrada = divisao_df_drop.apply(main,axis=1)\n",
        "  divisao_filtrada_df = pd.DataFrame(divisao_filtrada)\n",
        "  #div_fil_memdian = divisao_filtrada_df.apply(median_filter, axis=1)\n",
        "  #div_fil_memdian_df = pd.DataFrame(div_fil_memdian)\n",
        "  matriz_expandida = divisao_filtrada_df.apply(expandir_array, axis=1)\n",
        "\n",
        "  df_transformado = pd.DataFrame((matriz_expandida.values.flatten()).T).T\n",
        "  unb_filtrado_KDE_Wave = pd.concat([unb_filtrado_KDE_Wave,df_transformado])"
      ],
      "metadata": {
        "id": "bPsyQQ3rSYds"
      },
      "execution_count": null,
      "outputs": []
    },
    {
      "cell_type": "code",
      "source": [
        "unb_filtrado_KDE_Wave.to_csv('/content/drive/My Drive/DADOS DOUTORADO/Wave_KDE/wave_KDE_unb.csv', index=False)"
      ],
      "metadata": {
        "id": "PSabVuCaSv-z"
      },
      "execution_count": null,
      "outputs": []
    },
    {
      "cell_type": "code",
      "source": [],
      "metadata": {
        "id": "MFx4RIp6Tc4F"
      },
      "execution_count": null,
      "outputs": []
    },
    {
      "cell_type": "markdown",
      "source": [
        "### Feature Dados Wave"
      ],
      "metadata": {
        "id": "Z6dES31nTyms"
      }
    },
    {
      "cell_type": "code",
      "source": [
        "fft_normal_wave = pd.DataFrame(FFT(wave_normal.iloc[:50]))\n",
        "fft_bea_wave = pd.DataFrame(FFT(wave_bea.iloc[:50]))\n",
        "fft_mis_wave = pd.DataFrame(FFT(wave_mis.iloc[:50]))\n",
        "fft_unb_wave = pd.DataFrame(FFT(wave_unb.iloc[:50]))\n",
        "data_merged_wave = pd.concat((fft_normal_wave, fft_bea_wave,fft_mis_wave,fft_unb_wave))\n",
        "def NormalizeDataWave(data):  # Normalisasi (0-1)\n",
        "    data_max = np.max(data_merged_wave)\n",
        "    data_min = np.min(data_merged_wave)\n",
        "    return pd.DataFrame((data - np.min(data_min)) / (np.max(data_max) - np.min(data_min)))\n",
        "fft_normal_norm_wave = NormalizeDataWave(fft_normal_wave)\n",
        "fft_bea_norm_wave = NormalizeDataWave(fft_bea_wave)\n",
        "fft_mis_norm_wave = NormalizeDataWave(fft_mis_wave)\n",
        "fft_unb_norm_wave = NormalizeDataWave(fft_unb_wave)\n",
        "media_normal_wave = mean(fft_normal_norm_wave)\n",
        "media_bea_wave = mean(fft_bea_norm_wave)\n",
        "media_mis_wave = mean(fft_mis_norm_wave)\n",
        "media_unb_wave = mean(fft_unb_norm_wave)\n",
        "rms_normal_wave = rms(fft_normal_norm_wave)\n",
        "rms_bea_wave = rms(fft_bea_norm_wave)\n",
        "rms_mis_wave = rms(fft_mis_norm_wave)\n",
        "rms_unb_wave = rms(fft_unb_norm_wave)\n",
        "pp_normal_wave = pp(fft_normal_norm_wave)\n",
        "pp_bea_wave = pp(fft_bea_norm_wave)\n",
        "pp_mis_wave = pp(fft_mis_norm_wave)\n",
        "pp_unb_wave = pp(fft_unb_norm_wave)\n",
        "feat_normal_wave = pd.concat((media_normal_wave, pp_normal_wave, rms_normal_wave), axis=1)\n",
        "feat_bea_wave = pd.concat((media_bea_wave, pp_bea_wave, rms_bea_wave), axis=1)\n",
        "feat_mis_wave = pd.concat((media_mis_wave, pp_mis_wave, rms_mis_wave), axis=1)\n",
        "feat_unb_wave = pd.concat((media_unb_wave, pp_unb_wave, rms_unb_wave), axis=1)\n",
        "feat_normal_wave.columns = ['media', 'pp', 'rms']\n",
        "feat_bea_wave.columns = ['media', 'pp', 'rms']\n",
        "feat_mis_wave.columns = ['media', 'pp', 'rms']\n",
        "feat_unb_wave.columns = ['media', 'pp', 'rms']\n",
        "feat_normal_wave['cond']=0\n",
        "feat_bea_wave['cond']=1\n",
        "feat_mis_wave['cond']=2\n",
        "feat_unb_wave['cond']=3\n",
        "matriz_wave_classificacao = pd.concat((feat_normal_wave, feat_bea_wave, feat_mis_wave, feat_unb_wave))"
      ],
      "metadata": {
        "id": "x4zcqCY2T3BW"
      },
      "execution_count": null,
      "outputs": []
    },
    {
      "cell_type": "markdown",
      "source": [
        "### Classificação Wave ANN"
      ],
      "metadata": {
        "id": "g9-n5kDUXufe"
      }
    },
    {
      "cell_type": "code",
      "source": [
        "X_wave = matriz_wave_classificacao.drop('cond', axis=1)\n",
        "y_wave = matriz_wave_classificacao['cond']"
      ],
      "metadata": {
        "id": "LtW2xMaFXiav"
      },
      "execution_count": null,
      "outputs": []
    },
    {
      "cell_type": "code",
      "source": [
        "import numpy as np\n",
        "import tensorflow as tf\n",
        "from tensorflow.keras.models import Sequential\n",
        "from tensorflow.keras.layers import Dense\n",
        "from sklearn.model_selection import train_test_split\n",
        "from sklearn.preprocessing import StandardScaler\n",
        "from sklearn.metrics import classification_report, confusion_matrix, accuracy_score\n",
        "\n",
        "\n",
        "\n",
        "# Dividindo em conjunto de treino e teste\n",
        "X_train, X_test, y_train, y_test = train_test_split(X_wave, y_wave, test_size=0.2, random_state=42)\n",
        "\n",
        "# Padronizando os dados\n",
        "scaler = StandardScaler()\n",
        "X_train = scaler.fit_transform(X_train)\n",
        "X_test = scaler.transform(X_test)\n",
        "\n",
        "y_train = tf.keras.utils.to_categorical(y_train, num_classes=4)\n",
        "y_test = tf.keras.utils.to_categorical(y_test, num_classes=4)\n",
        "\n",
        "# Construindo o modelo\n",
        "model = Sequential()\n",
        "model.add(Dense(32, input_dim=3, activation='relu'))  # Primeira camada oculta com 12 neurônios\n",
        "model.add(Dense(16, activation='relu'))                # Segunda camada oculta com 8 neurônios\n",
        "model.add(Dense(4, activation='softmax'))             # Camada de saída com 1 neurônio e ativação sigmoid para classificação binária\n",
        "\n",
        "# Compilando o modelo\n",
        "model.compile(loss='categorical_crossentropy', optimizer='adam', metrics=['accuracy'])\n",
        "\n",
        "# Treinando o modelo\n",
        "history=model.fit(X_train, y_train, epochs=50, batch_size=10, validation_data=(X_test, y_test))\n",
        "\n",
        "# Avaliando o modelo\n",
        "loss, accuracy = model.evaluate(X_test, y_test)\n",
        "print(f\"Loss: {loss}\")\n",
        "print(f\"Accuracy: {accuracy}\")"
      ],
      "metadata": {
        "colab": {
          "base_uri": "https://localhost:8080/"
        },
        "id": "F0ca35DlXtpG",
        "outputId": "30ef109e-b5d7-42bb-a36b-345e6d953e4a"
      },
      "execution_count": null,
      "outputs": [
        {
          "output_type": "stream",
          "name": "stdout",
          "text": [
            "Epoch 1/50\n",
            "16/16 [==============================] - 1s 16ms/step - loss: 1.3548 - accuracy: 0.3562 - val_loss: 1.3087 - val_accuracy: 0.3750\n",
            "Epoch 2/50\n",
            "16/16 [==============================] - 0s 5ms/step - loss: 1.1881 - accuracy: 0.5250 - val_loss: 1.1695 - val_accuracy: 0.4000\n",
            "Epoch 3/50\n",
            "16/16 [==============================] - 0s 6ms/step - loss: 1.0527 - accuracy: 0.6625 - val_loss: 1.0683 - val_accuracy: 0.7000\n",
            "Epoch 4/50\n",
            "16/16 [==============================] - 0s 4ms/step - loss: 0.9452 - accuracy: 0.7375 - val_loss: 0.9847 - val_accuracy: 0.6750\n",
            "Epoch 5/50\n",
            "16/16 [==============================] - 0s 5ms/step - loss: 0.8504 - accuracy: 0.7375 - val_loss: 0.9019 - val_accuracy: 0.6750\n",
            "Epoch 6/50\n",
            "16/16 [==============================] - 0s 6ms/step - loss: 0.7679 - accuracy: 0.7375 - val_loss: 0.8317 - val_accuracy: 0.6750\n",
            "Epoch 7/50\n",
            "16/16 [==============================] - 0s 5ms/step - loss: 0.6972 - accuracy: 0.7375 - val_loss: 0.7625 - val_accuracy: 0.6500\n",
            "Epoch 8/50\n",
            "16/16 [==============================] - 0s 5ms/step - loss: 0.6376 - accuracy: 0.7375 - val_loss: 0.6988 - val_accuracy: 0.6750\n",
            "Epoch 9/50\n",
            "16/16 [==============================] - 0s 5ms/step - loss: 0.5824 - accuracy: 0.7375 - val_loss: 0.6455 - val_accuracy: 0.6500\n",
            "Epoch 10/50\n",
            "16/16 [==============================] - 0s 5ms/step - loss: 0.5386 - accuracy: 0.7375 - val_loss: 0.5965 - val_accuracy: 0.6500\n",
            "Epoch 11/50\n",
            "16/16 [==============================] - 0s 4ms/step - loss: 0.4999 - accuracy: 0.7375 - val_loss: 0.5594 - val_accuracy: 0.6500\n",
            "Epoch 12/50\n",
            "16/16 [==============================] - 0s 5ms/step - loss: 0.4686 - accuracy: 0.7375 - val_loss: 0.5265 - val_accuracy: 0.6500\n",
            "Epoch 13/50\n",
            "16/16 [==============================] - 0s 5ms/step - loss: 0.4412 - accuracy: 0.7375 - val_loss: 0.4969 - val_accuracy: 0.6500\n",
            "Epoch 14/50\n",
            "16/16 [==============================] - 0s 5ms/step - loss: 0.4191 - accuracy: 0.7375 - val_loss: 0.4707 - val_accuracy: 0.6500\n",
            "Epoch 15/50\n",
            "16/16 [==============================] - 0s 6ms/step - loss: 0.3987 - accuracy: 0.7375 - val_loss: 0.4504 - val_accuracy: 0.6500\n",
            "Epoch 16/50\n",
            "16/16 [==============================] - 0s 5ms/step - loss: 0.3789 - accuracy: 0.7375 - val_loss: 0.4319 - val_accuracy: 0.6500\n",
            "Epoch 17/50\n",
            "16/16 [==============================] - 0s 5ms/step - loss: 0.3628 - accuracy: 0.7375 - val_loss: 0.4105 - val_accuracy: 0.6750\n",
            "Epoch 18/50\n",
            "16/16 [==============================] - 0s 6ms/step - loss: 0.3471 - accuracy: 0.7812 - val_loss: 0.3926 - val_accuracy: 0.7750\n",
            "Epoch 19/50\n",
            "16/16 [==============================] - 0s 5ms/step - loss: 0.3345 - accuracy: 0.8062 - val_loss: 0.3806 - val_accuracy: 0.7750\n",
            "Epoch 20/50\n",
            "16/16 [==============================] - 0s 5ms/step - loss: 0.3169 - accuracy: 0.8500 - val_loss: 0.3580 - val_accuracy: 0.8750\n",
            "Epoch 21/50\n",
            "16/16 [==============================] - 0s 6ms/step - loss: 0.3026 - accuracy: 0.8938 - val_loss: 0.3427 - val_accuracy: 0.8750\n",
            "Epoch 22/50\n",
            "16/16 [==============================] - 0s 6ms/step - loss: 0.2887 - accuracy: 0.9125 - val_loss: 0.3288 - val_accuracy: 0.8750\n",
            "Epoch 23/50\n",
            "16/16 [==============================] - 0s 8ms/step - loss: 0.2753 - accuracy: 0.9062 - val_loss: 0.3171 - val_accuracy: 0.9000\n",
            "Epoch 24/50\n",
            "16/16 [==============================] - 0s 6ms/step - loss: 0.2610 - accuracy: 0.9250 - val_loss: 0.2970 - val_accuracy: 0.9500\n",
            "Epoch 25/50\n",
            "16/16 [==============================] - 0s 8ms/step - loss: 0.2491 - accuracy: 0.9375 - val_loss: 0.2806 - val_accuracy: 0.9500\n",
            "Epoch 26/50\n",
            "16/16 [==============================] - 0s 6ms/step - loss: 0.2350 - accuracy: 0.9563 - val_loss: 0.2697 - val_accuracy: 0.9500\n",
            "Epoch 27/50\n",
            "16/16 [==============================] - 0s 7ms/step - loss: 0.2236 - accuracy: 0.9500 - val_loss: 0.2532 - val_accuracy: 0.9500\n",
            "Epoch 28/50\n",
            "16/16 [==============================] - 0s 8ms/step - loss: 0.2099 - accuracy: 0.9688 - val_loss: 0.2403 - val_accuracy: 0.9500\n",
            "Epoch 29/50\n",
            "16/16 [==============================] - 0s 7ms/step - loss: 0.1983 - accuracy: 0.9688 - val_loss: 0.2301 - val_accuracy: 0.9750\n",
            "Epoch 30/50\n",
            "16/16 [==============================] - 0s 7ms/step - loss: 0.1870 - accuracy: 0.9750 - val_loss: 0.2150 - val_accuracy: 0.9750\n",
            "Epoch 31/50\n",
            "16/16 [==============================] - 0s 6ms/step - loss: 0.1754 - accuracy: 0.9750 - val_loss: 0.2039 - val_accuracy: 0.9750\n",
            "Epoch 32/50\n",
            "16/16 [==============================] - 0s 6ms/step - loss: 0.1664 - accuracy: 0.9812 - val_loss: 0.1939 - val_accuracy: 0.9750\n",
            "Epoch 33/50\n",
            "16/16 [==============================] - 0s 5ms/step - loss: 0.1551 - accuracy: 0.9750 - val_loss: 0.1833 - val_accuracy: 0.9750\n",
            "Epoch 34/50\n",
            "16/16 [==============================] - 0s 6ms/step - loss: 0.1456 - accuracy: 0.9937 - val_loss: 0.1741 - val_accuracy: 0.9750\n",
            "Epoch 35/50\n",
            "16/16 [==============================] - 0s 8ms/step - loss: 0.1349 - accuracy: 0.9812 - val_loss: 0.1665 - val_accuracy: 0.9750\n",
            "Epoch 36/50\n",
            "16/16 [==============================] - 0s 10ms/step - loss: 0.1262 - accuracy: 0.9812 - val_loss: 0.1579 - val_accuracy: 1.0000\n",
            "Epoch 37/50\n",
            "16/16 [==============================] - 0s 7ms/step - loss: 0.1174 - accuracy: 0.9937 - val_loss: 0.1504 - val_accuracy: 1.0000\n",
            "Epoch 38/50\n",
            "16/16 [==============================] - 0s 7ms/step - loss: 0.1100 - accuracy: 0.9937 - val_loss: 0.1418 - val_accuracy: 1.0000\n",
            "Epoch 39/50\n",
            "16/16 [==============================] - 0s 7ms/step - loss: 0.1026 - accuracy: 0.9937 - val_loss: 0.1351 - val_accuracy: 1.0000\n",
            "Epoch 40/50\n",
            "16/16 [==============================] - 0s 6ms/step - loss: 0.0961 - accuracy: 0.9937 - val_loss: 0.1297 - val_accuracy: 1.0000\n",
            "Epoch 41/50\n",
            "16/16 [==============================] - 0s 6ms/step - loss: 0.0896 - accuracy: 0.9937 - val_loss: 0.1240 - val_accuracy: 1.0000\n",
            "Epoch 42/50\n",
            "16/16 [==============================] - 0s 5ms/step - loss: 0.0836 - accuracy: 0.9937 - val_loss: 0.1201 - val_accuracy: 1.0000\n",
            "Epoch 43/50\n",
            "16/16 [==============================] - 0s 6ms/step - loss: 0.0786 - accuracy: 0.9937 - val_loss: 0.1156 - val_accuracy: 1.0000\n",
            "Epoch 44/50\n",
            "16/16 [==============================] - 0s 7ms/step - loss: 0.0736 - accuracy: 0.9937 - val_loss: 0.1117 - val_accuracy: 1.0000\n",
            "Epoch 45/50\n",
            "16/16 [==============================] - 0s 8ms/step - loss: 0.0684 - accuracy: 0.9937 - val_loss: 0.1069 - val_accuracy: 1.0000\n",
            "Epoch 46/50\n",
            "16/16 [==============================] - 0s 8ms/step - loss: 0.0645 - accuracy: 0.9937 - val_loss: 0.1038 - val_accuracy: 1.0000\n",
            "Epoch 47/50\n",
            "16/16 [==============================] - 0s 7ms/step - loss: 0.0610 - accuracy: 0.9937 - val_loss: 0.0992 - val_accuracy: 1.0000\n",
            "Epoch 48/50\n",
            "16/16 [==============================] - 0s 7ms/step - loss: 0.0565 - accuracy: 1.0000 - val_loss: 0.0974 - val_accuracy: 1.0000\n",
            "Epoch 49/50\n",
            "16/16 [==============================] - 0s 6ms/step - loss: 0.0518 - accuracy: 1.0000 - val_loss: 0.0930 - val_accuracy: 1.0000\n",
            "Epoch 50/50\n",
            "16/16 [==============================] - 0s 7ms/step - loss: 0.0478 - accuracy: 1.0000 - val_loss: 0.0911 - val_accuracy: 1.0000\n",
            "2/2 [==============================] - 0s 9ms/step - loss: 0.0911 - accuracy: 1.0000\n",
            "Loss: 0.09107539057731628\n",
            "Accuracy: 1.0\n"
          ]
        }
      ]
    },
    {
      "cell_type": "code",
      "source": [
        "# Fazer previsões com o conjunto de teste\n",
        "y_pred_ANN = model.predict(X_test)\n",
        "y_pred_classes_ANN = np.argmax(y_pred_ANN, axis=1)\n",
        "\n",
        "# Avaliar o desempenho do modelo\n",
        "accuracy = accuracy_score(np.argmax(y_test, axis=1), y_pred_classes_ANN)\n",
        "print(f\"Acurácia: {accuracy:.2f}\")\n",
        "\n",
        "# Mostrar relatório de classificação\n",
        "print(\"Relatório de classificação:\")\n",
        "print(classification_report(np.argmax(y_test, axis=1), y_pred_classes_ANN))\n",
        "\n",
        "# Mostrar matriz de confusão\n",
        "print(\"Matriz de confusão:\")\n",
        "print(confusion_matrix(np.argmax(y_test, axis=1), y_pred_classes_ANN))\n",
        "\n",
        "# Exibir o histórico de treinamento\n",
        "import matplotlib.pyplot as plt\n",
        "\n",
        "plt.plot(history.history['accuracy'], label='Acurácia de treinamento')\n",
        "plt.plot(history.history['val_accuracy'], label='Acurácia de validação')\n",
        "plt.xlabel('Épocas')\n",
        "plt.ylabel('Acurácia')\n",
        "plt.legend()\n",
        "plt.show()"
      ],
      "metadata": {
        "colab": {
          "base_uri": "https://localhost:8080/",
          "height": 781
        },
        "id": "svZiqDIIYNfH",
        "outputId": "ff2740f4-b7ff-43b0-8374-5ded223d9f12"
      },
      "execution_count": null,
      "outputs": [
        {
          "output_type": "stream",
          "name": "stdout",
          "text": [
            "2/2 [==============================] - 0s 9ms/step\n",
            "Acurácia: 1.00\n",
            "Relatório de classificação:\n",
            "              precision    recall  f1-score   support\n",
            "\n",
            "           0       1.00      1.00      1.00         6\n",
            "           1       1.00      1.00      1.00        15\n",
            "           2       1.00      1.00      1.00         9\n",
            "           3       1.00      1.00      1.00        10\n",
            "\n",
            "    accuracy                           1.00        40\n",
            "   macro avg       1.00      1.00      1.00        40\n",
            "weighted avg       1.00      1.00      1.00        40\n",
            "\n",
            "Matriz de confusão:\n",
            "[[ 6  0  0  0]\n",
            " [ 0 15  0  0]\n",
            " [ 0  0  9  0]\n",
            " [ 0  0  0 10]]\n"
          ]
        },
        {
          "output_type": "display_data",
          "data": {
            "text/plain": [
              "<Figure size 640x480 with 1 Axes>"
            ],
            "image/png": "[encoded data removed]"
          },
          "metadata": {}
        }
      ]
    },
    {
      "cell_type": "markdown",
      "source": [
        "### Classificador SVM Wave"
      ],
      "metadata": {
        "id": "Ddgjblj5YtT5"
      }
    },
    {
      "cell_type": "code",
      "source": [
        "from sklearn.model_selection import train_test_split\n",
        "x_train, x_test, y_train, y_test = train_test_split(X_wave, y_wave, test_size=0.2, random_state=0)\n",
        "# Apply SVM Model\n",
        "from sklearn.svm import SVC\n",
        "from sklearn.metrics import accuracy_score\n",
        "svc=SVC(kernel='rbf')\n",
        "svc.fit(x_train, y_train)\n",
        "y_pred=svc.predict(x_test)\n",
        "print('Model accuracy : {0:0.3f}'. format(accuracy_score(y_test, y_pred)))"
      ],
      "metadata": {
        "colab": {
          "base_uri": "https://localhost:8080/"
        },
        "id": "1N61XfQQYkGz",
        "outputId": "43cc3cc6-051e-4844-af1e-0680f14fa130"
      },
      "execution_count": null,
      "outputs": [
        {
          "output_type": "stream",
          "name": "stdout",
          "text": [
            "Model accuracy : 0.900\n"
          ]
        }
      ]
    },
    {
      "cell_type": "code",
      "source": [
        "import seaborn as sns\n",
        "# Confusion Matrix\n",
        "from sklearn.metrics import confusion_matrix\n",
        "cm = confusion_matrix(y_test, y_pred)\n",
        "cm_matrix = pd.DataFrame(data=cm, columns=['0', '1','2','3'],\n",
        "                                 index=['0', '1','2','3'])\n",
        "\n",
        "sns.heatmap(cm_matrix, annot=True, fmt='d', cmap='mako')"
      ],
      "metadata": {
        "colab": {
          "base_uri": "https://localhost:8080/",
          "height": 452
        },
        "id": "gbo1gg9aZRNo",
        "outputId": "2d787d1d-1f5a-4efa-d2f8-ccd48e53d448"
      },
      "execution_count": null,
      "outputs": [
        {
          "output_type": "execute_result",
          "data": {
            "text/plain": [
              "<Axes: >"
            ]
          },
          "metadata": {},
          "execution_count": 87
        },
        {
          "output_type": "display_data",
          "data": {
            "text/plain": [
              "<Figure size 640x480 with 2 Axes>"
            ],
            "image/png": "[encoded data removed]"
          },
          "metadata": {}
        }
      ]
    },
    {
      "cell_type": "code",
      "source": [],
      "metadata": {
        "id": "aZhpbEceZvyZ"
      },
      "execution_count": null,
      "outputs": []
    },
    {
      "cell_type": "markdown",
      "source": [
        "### Classificador KNN Wave"
      ],
      "metadata": {
        "id": "PO6CeYjDcU3_"
      }
    },
    {
      "cell_type": "code",
      "source": [
        "x_train, x_test, y_train, y_test = train_test_split(X_wave, y_wave, test_size=0.2, random_state=0)\n",
        "from sklearn.neighbors import KNeighborsClassifier\n",
        "score_list=[]\n",
        "for each in range(1,15):\n",
        "    knn2 = KNeighborsClassifier(n_neighbors=each)\n",
        "    knn2.fit(x_train,y_train)\n",
        "    score_list.append(knn2.score(x_test,y_test))\n",
        "\n",
        "plt.plot(range(1,15),score_list)\n",
        "plt.xlabel(\"k values\")\n",
        "plt.ylabel(\"score\")"
      ],
      "metadata": {
        "colab": {
          "base_uri": "https://localhost:8080/",
          "height": 472
        },
        "id": "PzBR9eCucXhS",
        "outputId": "fff1ff9e-225c-421c-cb72-8d8279566116"
      },
      "execution_count": null,
      "outputs": [
        {
          "output_type": "execute_result",
          "data": {
            "text/plain": [
              "Text(0, 0.5, 'score')"
            ]
          },
          "metadata": {},
          "execution_count": 96
        },
        {
          "output_type": "display_data",
          "data": {
            "text/plain": [
              "<Figure size 640x480 with 1 Axes>"
            ],
            "image/png": "[encoded data removed]"
          },
          "metadata": {}
        }
      ]
    },
    {
      "cell_type": "code",
      "source": [
        "knn = KNeighborsClassifier(n_neighbors=4)\n",
        "knn.fit(x_train,y_train)\n",
        "print(\"Score for Number of Neighbors = 2: {}\".format(knn.score(x_test,y_test)))\n",
        "\n",
        "#Confusion Matrix\n",
        "y_pred = knn.predict(x_test)\n",
        "conf_mat = confusion_matrix(y_test,y_pred)\n",
        "#Visualization Confusion Matrix\n",
        "f, ax = plt.subplots(figsize=(5,5))\n",
        "sns.heatmap(conf_mat,annot=True,linewidths=0.5,linecolor=\"red\",fmt=\".0f\",ax=ax)\n",
        "plt.xlabel(\"Predicted Values\")\n",
        "plt.ylabel(\"True Values\")\n",
        "plt.show()"
      ],
      "metadata": {
        "colab": {
          "base_uri": "https://localhost:8080/",
          "height": 482
        },
        "id": "SBoRRv7acd3C",
        "outputId": "8311e457-f37c-4069-a879-1c10e5a8d890"
      },
      "execution_count": null,
      "outputs": [
        {
          "output_type": "stream",
          "name": "stdout",
          "text": [
            "Score for Number of Neighbors = 2: 0.875\n"
          ]
        },
        {
          "output_type": "display_data",
          "data": {
            "text/plain": [
              "<Figure size 500x500 with 2 Axes>"
            ],
            "image/png": "[encoded data removed]"
          },
          "metadata": {}
        }
      ]
    },
    {
      "cell_type": "markdown",
      "source": [
        "### Feature Dados KDE"
      ],
      "metadata": {
        "id": "9k0KEfz8gOKX"
      }
    },
    {
      "cell_type": "code",
      "source": [
        "fft_normal_KDE = pd.DataFrame(FFT(KDE_normal.iloc[:50]))\n",
        "fft_bea_KDE = pd.DataFrame(FFT(KDE_bea.iloc[:50]))\n",
        "fft_mis_KDE = pd.DataFrame(FFT(mis_filtrado_KDE.iloc[:50]))\n",
        "fft_unb_KDE = pd.DataFrame(FFT(unb_filtrado_KDE.iloc[:50]))\n",
        "data_merged_KDE = pd.concat((fft_normal_KDE, fft_bea_KDE,fft_mis_KDE,fft_unb_KDE))\n",
        "def NormalizeDataKDE(data):  # Normalisasi (0-1)\n",
        "    data_max = np.max(data_merged_KDE)\n",
        "    data_min = np.min(data_merged_KDE)\n",
        "    return pd.DataFrame((data - np.min(data_min)) / (np.max(data_max) - np.min(data_min)))\n",
        "fft_normal_norm_KDE = NormalizeDataKDE(fft_normal_KDE)\n",
        "fft_bea_norm_KDE = NormalizeDataKDE(fft_bea_KDE)\n",
        "fft_mis_norm_KDE = NormalizeDataKDE(fft_mis_KDE)\n",
        "fft_unb_norm_KDE = NormalizeDataKDE(fft_unb_KDE)\n",
        "media_normal_KDE = mean(fft_normal_norm_KDE)\n",
        "media_bea_KDE = mean(fft_bea_norm_KDE)\n",
        "media_mis_KDE = mean(fft_mis_norm_KDE)\n",
        "media_unb_KDE = mean(fft_unb_norm_KDE)\n",
        "rms_normal_KDE = rms(fft_normal_norm_KDE)\n",
        "rms_bea_KDE = rms(fft_bea_norm_KDE)\n",
        "rms_mis_KDE = rms(fft_mis_norm_KDE)\n",
        "rms_unb_KDE = rms(fft_unb_norm_KDE)\n",
        "pp_normal_KDE = pp(fft_normal_norm_KDE)\n",
        "pp_bea_KDE = pp(fft_bea_norm_KDE)\n",
        "pp_mis_KDE = pp(fft_mis_norm_KDE)\n",
        "pp_unb_KDE = pp(fft_unb_norm_KDE)\n",
        "feat_normal_KDE = pd.concat((media_normal_KDE, pp_normal_KDE, rms_normal_KDE), axis=1)\n",
        "feat_bea_KDE = pd.concat((media_bea_KDE, pp_bea_KDE, rms_bea_KDE), axis=1)\n",
        "feat_mis_KDE = pd.concat((media_mis_KDE, pp_mis_KDE, rms_mis_KDE), axis=1)\n",
        "feat_unb_KDE = pd.concat((media_unb_KDE, pp_unb_KDE, rms_unb_KDE), axis=1)\n",
        "feat_normal_KDE.columns = ['media', 'pp', 'rms']\n",
        "feat_bea_KDE.columns = ['media', 'pp', 'rms']\n",
        "feat_mis_KDE.columns = ['media', 'pp', 'rms']\n",
        "feat_unb_KDE.columns = ['media', 'pp', 'rms']\n",
        "feat_normal_KDE['cond']=0\n",
        "feat_bea_KDE['cond']=1\n",
        "feat_mis_KDE['cond']=2\n",
        "feat_unb_KDE['cond']=3\n",
        "matriz_KDE_classificacao = pd.concat((feat_normal_KDE, feat_bea_KDE, feat_mis_KDE, feat_unb_KDE))"
      ],
      "metadata": {
        "id": "q1d_tIlRgQ07"
      },
      "execution_count": null,
      "outputs": []
    },
    {
      "cell_type": "markdown",
      "source": [
        "### CLassificador ANN para KDE"
      ],
      "metadata": {
        "id": "g0Q7jHcejyxb"
      }
    },
    {
      "cell_type": "code",
      "source": [
        "X_KDE = matriz_KDE_classificacao.drop('cond', axis=1)\n",
        "y_KDE = matriz_KDE_classificacao['cond']"
      ],
      "metadata": {
        "id": "Q_CpgNlUivuw"
      },
      "execution_count": null,
      "outputs": []
    },
    {
      "cell_type": "code",
      "source": [
        "import numpy as np\n",
        "import tensorflow as tf\n",
        "from tensorflow.keras.models import Sequential\n",
        "from tensorflow.keras.layers import Dense\n",
        "from sklearn.model_selection import train_test_split\n",
        "from sklearn.preprocessing import StandardScaler\n",
        "from sklearn.metrics import classification_report, confusion_matrix, accuracy_score\n",
        "\n",
        "\n",
        "\n",
        "# Dividindo em conjunto de treino e teste\n",
        "X_train, X_test, y_train, y_test = train_test_split(X_KDE, y_KDE, test_size=0.2, random_state=42)\n",
        "\n",
        "# Padronizando os dados\n",
        "scaler = StandardScaler()\n",
        "X_train = scaler.fit_transform(X_train)\n",
        "X_test = scaler.transform(X_test)\n",
        "\n",
        "y_train = tf.keras.utils.to_categorical(y_train, num_classes=4)\n",
        "y_test = tf.keras.utils.to_categorical(y_test, num_classes=4)\n",
        "\n",
        "# Construindo o modelo\n",
        "model = Sequential()\n",
        "model.add(Dense(32, input_dim=3, activation='relu'))  # Primeira camada oculta com 12 neurônios\n",
        "model.add(Dense(16, activation='relu'))                # Segunda camada oculta com 8 neurônios\n",
        "model.add(Dense(4, activation='softmax'))             # Camada de saída com 1 neurônio e ativação sigmoid para classificação binária\n",
        "\n",
        "# Compilando o modelo\n",
        "model.compile(loss='categorical_crossentropy', optimizer='adam', metrics=['accuracy'])\n",
        "\n",
        "# Treinando o modelo\n",
        "history=model.fit(X_train, y_train, epochs=50, batch_size=10, validation_data=(X_test, y_test))\n",
        "\n",
        "# Avaliando o modelo\n",
        "loss, accuracy = model.evaluate(X_test, y_test)\n",
        "print(f\"Loss: {loss}\")\n",
        "print(f\"Accuracy: {accuracy}\")"
      ],
      "metadata": {
        "colab": {
          "base_uri": "https://localhost:8080/"
        },
        "id": "jGabgM2njWXH",
        "outputId": "06408efd-e113-4b9d-8ac9-ddfaa9919192"
      },
      "execution_count": null,
      "outputs": [
        {
          "output_type": "stream",
          "name": "stdout",
          "text": [
            "Epoch 1/50\n",
            "16/16 [==============================] - 1s 16ms/step - loss: 1.3812 - accuracy: 0.3875 - val_loss: 1.3602 - val_accuracy: 0.4750\n",
            "Epoch 2/50\n",
            "16/16 [==============================] - 0s 6ms/step - loss: 1.2622 - accuracy: 0.5312 - val_loss: 1.2359 - val_accuracy: 0.4750\n",
            "Epoch 3/50\n",
            "16/16 [==============================] - 0s 4ms/step - loss: 1.1593 - accuracy: 0.5437 - val_loss: 1.1318 - val_accuracy: 0.5000\n",
            "Epoch 4/50\n",
            "16/16 [==============================] - 0s 5ms/step - loss: 1.0861 - accuracy: 0.5437 - val_loss: 1.0505 - val_accuracy: 0.5500\n",
            "Epoch 5/50\n",
            "16/16 [==============================] - 0s 5ms/step - loss: 1.0312 - accuracy: 0.5437 - val_loss: 0.9868 - val_accuracy: 0.5500\n",
            "Epoch 6/50\n",
            "16/16 [==============================] - 0s 5ms/step - loss: 0.9910 - accuracy: 0.5437 - val_loss: 0.9418 - val_accuracy: 0.5750\n",
            "Epoch 7/50\n",
            "16/16 [==============================] - 0s 5ms/step - loss: 0.9610 - accuracy: 0.5437 - val_loss: 0.9081 - val_accuracy: 0.5750\n",
            "Epoch 8/50\n",
            "16/16 [==============================] - 0s 5ms/step - loss: 0.9376 - accuracy: 0.5437 - val_loss: 0.8831 - val_accuracy: 0.5750\n",
            "Epoch 9/50\n",
            "16/16 [==============================] - 0s 4ms/step - loss: 0.9164 - accuracy: 0.5437 - val_loss: 0.8637 - val_accuracy: 0.5500\n",
            "Epoch 10/50\n",
            "16/16 [==============================] - 0s 4ms/step - loss: 0.8927 - accuracy: 0.5562 - val_loss: 0.8415 - val_accuracy: 0.5500\n",
            "Epoch 11/50\n",
            "16/16 [==============================] - 0s 4ms/step - loss: 0.8703 - accuracy: 0.5688 - val_loss: 0.8288 - val_accuracy: 0.5500\n",
            "Epoch 12/50\n",
            "16/16 [==============================] - 0s 4ms/step - loss: 0.8544 - accuracy: 0.5688 - val_loss: 0.8250 - val_accuracy: 0.5500\n",
            "Epoch 13/50\n",
            "16/16 [==============================] - 0s 4ms/step - loss: 0.8375 - accuracy: 0.5688 - val_loss: 0.8151 - val_accuracy: 0.5250\n",
            "Epoch 14/50\n",
            "16/16 [==============================] - 0s 5ms/step - loss: 0.8263 - accuracy: 0.5688 - val_loss: 0.7959 - val_accuracy: 0.5250\n",
            "Epoch 15/50\n",
            "16/16 [==============================] - 0s 5ms/step - loss: 0.8130 - accuracy: 0.5688 - val_loss: 0.7976 - val_accuracy: 0.5000\n",
            "Epoch 16/50\n",
            "16/16 [==============================] - 0s 5ms/step - loss: 0.8002 - accuracy: 0.5688 - val_loss: 0.7994 - val_accuracy: 0.5000\n",
            "Epoch 17/50\n",
            "16/16 [==============================] - 0s 5ms/step - loss: 0.7896 - accuracy: 0.6062 - val_loss: 0.7795 - val_accuracy: 0.5000\n",
            "Epoch 18/50\n",
            "16/16 [==============================] - 0s 4ms/step - loss: 0.7774 - accuracy: 0.5813 - val_loss: 0.7863 - val_accuracy: 0.5000\n",
            "Epoch 19/50\n",
            "16/16 [==============================] - 0s 5ms/step - loss: 0.7647 - accuracy: 0.5750 - val_loss: 0.7747 - val_accuracy: 0.5000\n",
            "Epoch 20/50\n",
            "16/16 [==============================] - 0s 4ms/step - loss: 0.7512 - accuracy: 0.6750 - val_loss: 0.7668 - val_accuracy: 0.5500\n",
            "Epoch 21/50\n",
            "16/16 [==============================] - 0s 5ms/step - loss: 0.7398 - accuracy: 0.6062 - val_loss: 0.7826 - val_accuracy: 0.5000\n",
            "Epoch 22/50\n",
            "16/16 [==============================] - 0s 5ms/step - loss: 0.7363 - accuracy: 0.6250 - val_loss: 0.7535 - val_accuracy: 0.6250\n",
            "Epoch 23/50\n",
            "16/16 [==============================] - 0s 5ms/step - loss: 0.7198 - accuracy: 0.6313 - val_loss: 0.7539 - val_accuracy: 0.5000\n",
            "Epoch 24/50\n",
            "16/16 [==============================] - 0s 5ms/step - loss: 0.7043 - accuracy: 0.6375 - val_loss: 0.7461 - val_accuracy: 0.5750\n",
            "Epoch 25/50\n",
            "16/16 [==============================] - 0s 5ms/step - loss: 0.6952 - accuracy: 0.6687 - val_loss: 0.7295 - val_accuracy: 0.6000\n",
            "Epoch 26/50\n",
            "16/16 [==============================] - 0s 5ms/step - loss: 0.6844 - accuracy: 0.6750 - val_loss: 0.7394 - val_accuracy: 0.5500\n",
            "Epoch 27/50\n",
            "16/16 [==============================] - 0s 6ms/step - loss: 0.6741 - accuracy: 0.6625 - val_loss: 0.7195 - val_accuracy: 0.5750\n",
            "Epoch 28/50\n",
            "16/16 [==============================] - 0s 4ms/step - loss: 0.6656 - accuracy: 0.6938 - val_loss: 0.7165 - val_accuracy: 0.6000\n",
            "Epoch 29/50\n",
            "16/16 [==============================] - 0s 5ms/step - loss: 0.6531 - accuracy: 0.6875 - val_loss: 0.7091 - val_accuracy: 0.6000\n",
            "Epoch 30/50\n",
            "16/16 [==============================] - 0s 4ms/step - loss: 0.6442 - accuracy: 0.6687 - val_loss: 0.6972 - val_accuracy: 0.6000\n",
            "Epoch 31/50\n",
            "16/16 [==============================] - 0s 5ms/step - loss: 0.6321 - accuracy: 0.6938 - val_loss: 0.6832 - val_accuracy: 0.6000\n",
            "Epoch 32/50\n",
            "16/16 [==============================] - 0s 5ms/step - loss: 0.6226 - accuracy: 0.7188 - val_loss: 0.6920 - val_accuracy: 0.6500\n",
            "Epoch 33/50\n",
            "16/16 [==============================] - 0s 5ms/step - loss: 0.6102 - accuracy: 0.7750 - val_loss: 0.6766 - val_accuracy: 0.7000\n",
            "Epoch 34/50\n",
            "16/16 [==============================] - 0s 5ms/step - loss: 0.5995 - accuracy: 0.7500 - val_loss: 0.6594 - val_accuracy: 0.6750\n",
            "Epoch 35/50\n",
            "16/16 [==============================] - 0s 5ms/step - loss: 0.5920 - accuracy: 0.7437 - val_loss: 0.6570 - val_accuracy: 0.7000\n",
            "Epoch 36/50\n",
            "16/16 [==============================] - 0s 5ms/step - loss: 0.5800 - accuracy: 0.7312 - val_loss: 0.6631 - val_accuracy: 0.6500\n",
            "Epoch 37/50\n",
            "16/16 [==============================] - 0s 4ms/step - loss: 0.5701 - accuracy: 0.7625 - val_loss: 0.6543 - val_accuracy: 0.7000\n",
            "Epoch 38/50\n",
            "16/16 [==============================] - 0s 6ms/step - loss: 0.5614 - accuracy: 0.7688 - val_loss: 0.6384 - val_accuracy: 0.6500\n",
            "Epoch 39/50\n",
            "16/16 [==============================] - 0s 8ms/step - loss: 0.5511 - accuracy: 0.8000 - val_loss: 0.6226 - val_accuracy: 0.7250\n",
            "Epoch 40/50\n",
            "16/16 [==============================] - 0s 11ms/step - loss: 0.5434 - accuracy: 0.7688 - val_loss: 0.6196 - val_accuracy: 0.7000\n",
            "Epoch 41/50\n",
            "16/16 [==============================] - 0s 7ms/step - loss: 0.5338 - accuracy: 0.7625 - val_loss: 0.6300 - val_accuracy: 0.7000\n",
            "Epoch 42/50\n",
            "16/16 [==============================] - 0s 6ms/step - loss: 0.5283 - accuracy: 0.8250 - val_loss: 0.6016 - val_accuracy: 0.6750\n",
            "Epoch 43/50\n",
            "16/16 [==============================] - 0s 6ms/step - loss: 0.5168 - accuracy: 0.7875 - val_loss: 0.5967 - val_accuracy: 0.6500\n",
            "Epoch 44/50\n",
            "16/16 [==============================] - 0s 6ms/step - loss: 0.5119 - accuracy: 0.8000 - val_loss: 0.5973 - val_accuracy: 0.6750\n",
            "Epoch 45/50\n",
            "16/16 [==============================] - 0s 6ms/step - loss: 0.5022 - accuracy: 0.8188 - val_loss: 0.6005 - val_accuracy: 0.7000\n",
            "Epoch 46/50\n",
            "16/16 [==============================] - 0s 7ms/step - loss: 0.4931 - accuracy: 0.8188 - val_loss: 0.5833 - val_accuracy: 0.7000\n",
            "Epoch 47/50\n",
            "16/16 [==============================] - 0s 8ms/step - loss: 0.4862 - accuracy: 0.8188 - val_loss: 0.5935 - val_accuracy: 0.7250\n",
            "Epoch 48/50\n",
            "16/16 [==============================] - 0s 11ms/step - loss: 0.4790 - accuracy: 0.8062 - val_loss: 0.5599 - val_accuracy: 0.7500\n",
            "Epoch 49/50\n",
            "16/16 [==============================] - 0s 9ms/step - loss: 0.4725 - accuracy: 0.8313 - val_loss: 0.5601 - val_accuracy: 0.7000\n",
            "Epoch 50/50\n",
            "16/16 [==============================] - 0s 8ms/step - loss: 0.4693 - accuracy: 0.7937 - val_loss: 0.5507 - val_accuracy: 0.7250\n",
            "2/2 [==============================] - 0s 12ms/step - loss: 0.5507 - accuracy: 0.7250\n",
            "Loss: 0.5506716966629028\n",
            "Accuracy: 0.7250000238418579\n"
          ]
        }
      ]
    },
    {
      "cell_type": "code",
      "source": [
        "# Fazer previsões com o conjunto de teste\n",
        "y_pred_ANN = model.predict(X_test)\n",
        "y_pred_classes_ANN = np.argmax(y_pred_ANN, axis=1)\n",
        "\n",
        "# Avaliar o desempenho do modelo\n",
        "accuracy = accuracy_score(np.argmax(y_test, axis=1), y_pred_classes_ANN)\n",
        "print(f\"Acurácia: {accuracy:.2f}\")\n",
        "\n",
        "# Mostrar relatório de classificação\n",
        "print(\"Relatório de classificação:\")\n",
        "print(classification_report(np.argmax(y_test, axis=1), y_pred_classes_ANN))\n",
        "\n",
        "# Mostrar matriz de confusão\n",
        "print(\"Matriz de confusão:\")\n",
        "print(confusion_matrix(np.argmax(y_test, axis=1), y_pred_classes_ANN))\n",
        "\n",
        "# Exibir o histórico de treinamento\n",
        "import matplotlib.pyplot as plt\n",
        "\n",
        "plt.plot(history.history['accuracy'], label='Acurácia de treinamento')\n",
        "plt.plot(history.history['val_accuracy'], label='Acurácia de validação')\n",
        "plt.xlabel('Épocas')\n",
        "plt.ylabel('Acurácia')\n",
        "plt.legend()\n",
        "plt.show()"
      ],
      "metadata": {
        "colab": {
          "base_uri": "https://localhost:8080/",
          "height": 818
        },
        "id": "JjRewrZ5jdpP",
        "outputId": "a634d844-26f2-4587-a9a5-7ff3648db334"
      },
      "execution_count": null,
      "outputs": [
        {
          "output_type": "stream",
          "name": "stderr",
          "text": [
            "WARNING:tensorflow:5 out of the last 11 calls to <function Model.make_predict_function.<locals>.predict_function at 0x7b20441a0c10> triggered tf.function retracing. Tracing is expensive and the excessive number of tracings could be due to (1) creating @tf.function repeatedly in a loop, (2) passing tensors with different shapes, (3) passing Python objects instead of tensors. For (1), please define your @tf.function outside of the loop. For (2), @tf.function has reduce_retracing=True option that can avoid unnecessary retracing. For (3), please refer to https://www.tensorflow.org/guide/function#controlling_retracing and https://www.tensorflow.org/api_docs/python/tf/function for  more details.\n"
          ]
        },
        {
          "output_type": "stream",
          "name": "stdout",
          "text": [
            "2/2 [==============================] - 0s 6ms/step\n",
            "Acurácia: 0.72\n",
            "Relatório de classificação:\n",
            "              precision    recall  f1-score   support\n",
            "\n",
            "           0       1.00      1.00      1.00         6\n",
            "           1       1.00      0.80      0.89        15\n",
            "           2       0.40      0.44      0.42         9\n",
            "           3       0.58      0.70      0.64        10\n",
            "\n",
            "    accuracy                           0.73        40\n",
            "   macro avg       0.75      0.74      0.74        40\n",
            "weighted avg       0.76      0.72      0.74        40\n",
            "\n",
            "Matriz de confusão:\n",
            "[[ 6  0  0  0]\n",
            " [ 0 12  3  0]\n",
            " [ 0  0  4  5]\n",
            " [ 0  0  3  7]]\n"
          ]
        },
        {
          "output_type": "display_data",
          "data": {
            "text/plain": [
              "<Figure size 640x480 with 1 Axes>"
            ],
            "image/png": "[encoded data removed]"
          },
          "metadata": {}
        }
      ]
    },
    {
      "cell_type": "code",
      "source": [],
      "metadata": {
        "id": "jkD9LIcwj19X"
      },
      "execution_count": null,
      "outputs": []
    },
    {
      "cell_type": "markdown",
      "source": [
        "### Classificador SVM para KDE"
      ],
      "metadata": {
        "id": "VB2gK5Nvj_Gb"
      }
    },
    {
      "cell_type": "code",
      "source": [
        "from sklearn.model_selection import train_test_split\n",
        "x_train, x_test, y_train, y_test = train_test_split(X_KDE, y_KDE, test_size=0.2, random_state=0)\n",
        "# Apply SVM Model\n",
        "from sklearn.svm import SVC\n",
        "from sklearn.metrics import accuracy_score\n",
        "svc=SVC(kernel='rbf')\n",
        "svc.fit(x_train, y_train)\n",
        "y_pred=svc.predict(x_test)\n",
        "print('Model accuracy : {0:0.3f}'. format(accuracy_score(y_test, y_pred)))"
      ],
      "metadata": {
        "colab": {
          "base_uri": "https://localhost:8080/"
        },
        "id": "x-K1T_HqkBQX",
        "outputId": "50153c7a-1599-4e10-e0d2-e44a6b51a4f3"
      },
      "execution_count": null,
      "outputs": [
        {
          "output_type": "stream",
          "name": "stdout",
          "text": [
            "Model accuracy : 0.750\n"
          ]
        }
      ]
    },
    {
      "cell_type": "code",
      "source": [],
      "metadata": {
        "id": "IFmd_f3NkIOn"
      },
      "execution_count": null,
      "outputs": []
    },
    {
      "cell_type": "markdown",
      "source": [
        "### Classificador KNN para KDE"
      ],
      "metadata": {
        "id": "FGZVCBuGkOts"
      }
    },
    {
      "cell_type": "code",
      "source": [
        "knn = KNeighborsClassifier(n_neighbors=4)\n",
        "knn.fit(x_train,y_train)\n",
        "print(\"Score for Number of Neighbors = 2: {}\".format(knn.score(x_test,y_test)))\n",
        "\n",
        "#Confusion Matrix\n",
        "y_pred = knn.predict(x_test)\n",
        "conf_mat = confusion_matrix(y_test,y_pred)\n",
        "#Visualization Confusion Matrix\n",
        "f, ax = plt.subplots(figsize=(5,5))\n",
        "sns.heatmap(conf_mat,annot=True,linewidths=0.5,linecolor=\"red\",fmt=\".0f\",ax=ax)\n",
        "plt.xlabel(\"Predicted Values\")\n",
        "plt.ylabel(\"True Values\")\n",
        "plt.show()"
      ],
      "metadata": {
        "colab": {
          "base_uri": "https://localhost:8080/",
          "height": 482
        },
        "id": "gKBGoaCgkQeH",
        "outputId": "8b5d88a0-6517-4a76-aa45-49e12e6f735a"
      },
      "execution_count": null,
      "outputs": [
        {
          "output_type": "stream",
          "name": "stdout",
          "text": [
            "Score for Number of Neighbors = 2: 0.8\n"
          ]
        },
        {
          "output_type": "display_data",
          "data": {
            "text/plain": [
              "<Figure size 500x500 with 2 Axes>"
            ],
            "image/png": "[encoded data removed]"
          },
          "metadata": {}
        }
      ]
    },
    {
      "cell_type": "code",
      "source": [],
      "metadata": {
        "id": "w7GIbD4FkUQ5"
      },
      "execution_count": null,
      "outputs": []
    },
    {
      "cell_type": "markdown",
      "source": [
        "### Feature Dados KDE + Wave"
      ],
      "metadata": {
        "id": "KWgL-A1wk8Ym"
      }
    },
    {
      "cell_type": "code",
      "source": [
        "fft_normal_KDE_wave = pd.DataFrame(FFT(Wave_KDE_normal.iloc[:50]))\n",
        "fft_bea_KDE_wave = pd.DataFrame(FFT(Wave_KDE_bea.iloc[:50]))\n",
        "fft_mis_KDE_wave = pd.DataFrame(FFT(mis_filtrado_KDE_Wave.iloc[:50]))\n",
        "fft_unb_KDE_wave = pd.DataFrame(FFT(unb_filtrado_KDE_Wave.iloc[:50]))\n",
        "\n",
        "data_merged_KDE_Wave = pd.concat((fft_normal_KDE_wave, fft_bea_KDE_wave,fft_mis_KDE_wave,fft_unb_KDE_wave))\n",
        "def NormalizeDataKDEWave(data):  # Normalisasi (0-1)\n",
        "    data_max = np.max(data_merged_KDE)\n",
        "    data_min = np.min(data_merged_KDE)\n",
        "    return pd.DataFrame((data - np.min(data_min)) / (np.max(data_max) - np.min(data_min)))\n",
        "fft_normal_norm_KDE_wave = NormalizeDataKDEWave(fft_normal_KDE_wave)\n",
        "fft_bea_norm_KDE_wave = NormalizeDataKDEWave(fft_bea_KDE_wave)\n",
        "fft_mis_norm_KDE_wave = NormalizeDataKDEWave(fft_mis_KDE_wave)\n",
        "fft_unb_norm_KDE_wave = NormalizeDataKDEWave(fft_unb_KDE_wave)\n",
        "\n",
        "media_normal_KDE_Wave = mean(fft_normal_norm_KDE_wave)\n",
        "media_bea_KDE_Wave = mean(fft_bea_norm_KDE_wave)\n",
        "media_mis_KDE_Wave = mean(fft_mis_norm_KDE_wave)\n",
        "media_unb_KDE_Wave = mean(fft_unb_norm_KDE_wave)\n",
        "\n",
        "rms_normal_KDE_wave = rms(fft_normal_norm_KDE_wave)\n",
        "rms_bea_KDE_wave = rms(fft_bea_norm_KDE_wave)\n",
        "rms_mis_KDE_wave = rms(fft_mis_norm_KDE_wave)\n",
        "rms_unb_KDE_wave = rms(fft_unb_norm_KDE_wave)\n",
        "\n",
        "pp_normal_KDE_wave = pp(fft_normal_norm_KDE_wave)\n",
        "pp_bea_KDE_wave = pp(fft_bea_norm_KDE_wave)\n",
        "pp_mis_KDE_wave = pp(fft_mis_norm_KDE_wave)\n",
        "pp_unb_KDE_wave = pp(fft_unb_norm_KDE_wave)\n",
        "\n",
        "feat_normal_KDE_wave = pd.concat((media_normal_KDE_Wave, pp_normal_KDE_wave, rms_normal_KDE_wave), axis=1)\n",
        "feat_bea_KDE_wave = pd.concat((media_bea_KDE_Wave, pp_bea_KDE_wave, rms_bea_KDE_wave), axis=1)\n",
        "feat_mis_KDE_wave = pd.concat((media_mis_KDE_Wave, pp_mis_KDE_wave, rms_mis_KDE_wave), axis=1)\n",
        "feat_unb_KDE_wave = pd.concat((media_unb_KDE_Wave, pp_unb_KDE_wave, rms_unb_KDE_wave), axis=1)\n",
        "feat_normal_KDE_wave.columns = ['media', 'pp', 'rms']\n",
        "feat_bea_KDE_wave.columns = ['media', 'pp', 'rms']\n",
        "feat_mis_KDE_wave.columns = ['media', 'pp', 'rms']\n",
        "feat_unb_KDE_wave.columns = ['media', 'pp', 'rms']\n",
        "feat_normal_KDE_wave['cond']=0\n",
        "feat_bea_KDE_wave['cond']=1\n",
        "feat_mis_KDE_wave['cond']=2\n",
        "feat_unb_KDE_wave['cond']=3\n",
        "matriz_KDE_Wave_classificacao = pd.concat((feat_normal_KDE_wave, feat_bea_KDE_wave, feat_mis_KDE_wave, feat_unb_KDE_wave))"
      ],
      "metadata": {
        "id": "IaTHIQyok-cY"
      },
      "execution_count": null,
      "outputs": []
    },
    {
      "cell_type": "code",
      "source": [
        "X_KDE_wave = matriz_KDE_Wave_classificacao.drop('cond', axis=1)\n",
        "y_KDE_wave = matriz_KDE_Wave_classificacao['cond']"
      ],
      "metadata": {
        "id": "WFUer1OXsW6l"
      },
      "execution_count": null,
      "outputs": []
    },
    {
      "cell_type": "code",
      "source": [
        "# Dividindo em conjunto de treino e teste\n",
        "X_train, X_test, y_train, y_test = train_test_split(X_KDE_wave, y_KDE_wave, test_size=0.2, random_state=42)\n",
        "\n",
        "# Padronizando os dados\n",
        "scaler = StandardScaler()\n",
        "X_train = scaler.fit_transform(X_train)\n",
        "X_test = scaler.transform(X_test)\n",
        "\n",
        "y_train = tf.keras.utils.to_categorical(y_train, num_classes=4)\n",
        "y_test = tf.keras.utils.to_categorical(y_test, num_classes=4)\n",
        "\n",
        "# Construindo o modelo\n",
        "model = Sequential()\n",
        "model.add(Dense(32, input_dim=3, activation='relu'))  # Primeira camada oculta com 12 neurônios\n",
        "model.add(Dense(16, activation='relu'))                # Segunda camada oculta com 8 neurônios\n",
        "model.add(Dense(4, activation='softmax'))             # Camada de saída com 1 neurônio e ativação sigmoid para classificação binária\n",
        "\n",
        "# Compilando o modelo\n",
        "model.compile(loss='categorical_crossentropy', optimizer='adam', metrics=['accuracy'])\n",
        "\n",
        "# Treinando o modelo\n",
        "history=model.fit(X_train, y_train, epochs=50, batch_size=10, validation_data=(X_test, y_test))\n",
        "\n",
        "# Avaliando o modelo\n",
        "loss, accuracy = model.evaluate(X_test, y_test)\n",
        "print(f\"Loss: {loss}\")\n",
        "print(f\"Accuracy: {accuracy}\")"
      ],
      "metadata": {
        "colab": {
          "base_uri": "https://localhost:8080/"
        },
        "id": "UpEf9EigsnJP",
        "outputId": "e8febb4f-f8ea-4a4f-a524-1de7d7ef07e4"
      },
      "execution_count": null,
      "outputs": [
        {
          "output_type": "stream",
          "name": "stdout",
          "text": [
            "Epoch 1/50\n",
            "16/16 [==============================] - 3s 25ms/step - loss: 1.1846 - accuracy: 0.5188 - val_loss: 1.0838 - val_accuracy: 0.5250\n",
            "Epoch 2/50\n",
            "16/16 [==============================] - 0s 5ms/step - loss: 1.0765 - accuracy: 0.5125 - val_loss: 0.9791 - val_accuracy: 0.5250\n",
            "Epoch 3/50\n",
            "16/16 [==============================] - 0s 5ms/step - loss: 1.0084 - accuracy: 0.5125 - val_loss: 0.9034 - val_accuracy: 0.5250\n",
            "Epoch 4/50\n",
            "16/16 [==============================] - 0s 4ms/step - loss: 0.9597 - accuracy: 0.5125 - val_loss: 0.8495 - val_accuracy: 0.5250\n",
            "Epoch 5/50\n",
            "16/16 [==============================] - 0s 5ms/step - loss: 0.9226 - accuracy: 0.5125 - val_loss: 0.8149 - val_accuracy: 0.5250\n",
            "Epoch 6/50\n",
            "16/16 [==============================] - 0s 6ms/step - loss: 0.8970 - accuracy: 0.5188 - val_loss: 0.7928 - val_accuracy: 0.5250\n",
            "Epoch 7/50\n",
            "16/16 [==============================] - 0s 5ms/step - loss: 0.8717 - accuracy: 0.5188 - val_loss: 0.7711 - val_accuracy: 0.5250\n",
            "Epoch 8/50\n",
            "16/16 [==============================] - 0s 5ms/step - loss: 0.8508 - accuracy: 0.5188 - val_loss: 0.7526 - val_accuracy: 0.5250\n",
            "Epoch 9/50\n",
            "16/16 [==============================] - 0s 6ms/step - loss: 0.8313 - accuracy: 0.5250 - val_loss: 0.7419 - val_accuracy: 0.5500\n",
            "Epoch 10/50\n",
            "16/16 [==============================] - 0s 5ms/step - loss: 0.8154 - accuracy: 0.5312 - val_loss: 0.7270 - val_accuracy: 0.5750\n",
            "Epoch 11/50\n",
            "16/16 [==============================] - 0s 4ms/step - loss: 0.7996 - accuracy: 0.5375 - val_loss: 0.7125 - val_accuracy: 0.5750\n",
            "Epoch 12/50\n",
            "16/16 [==============================] - 0s 5ms/step - loss: 0.7839 - accuracy: 0.5562 - val_loss: 0.7061 - val_accuracy: 0.5750\n",
            "Epoch 13/50\n",
            "16/16 [==============================] - 0s 5ms/step - loss: 0.7638 - accuracy: 0.5750 - val_loss: 0.6851 - val_accuracy: 0.5750\n",
            "Epoch 14/50\n",
            "16/16 [==============================] - 0s 4ms/step - loss: 0.7476 - accuracy: 0.5625 - val_loss: 0.6745 - val_accuracy: 0.6250\n",
            "Epoch 15/50\n",
            "16/16 [==============================] - 0s 5ms/step - loss: 0.7292 - accuracy: 0.6313 - val_loss: 0.6706 - val_accuracy: 0.6000\n",
            "Epoch 16/50\n",
            "16/16 [==============================] - 0s 5ms/step - loss: 0.7101 - accuracy: 0.7250 - val_loss: 0.6577 - val_accuracy: 0.7000\n",
            "Epoch 17/50\n",
            "16/16 [==============================] - 0s 5ms/step - loss: 0.6954 - accuracy: 0.6875 - val_loss: 0.6481 - val_accuracy: 0.6750\n",
            "Epoch 18/50\n",
            "16/16 [==============================] - 0s 6ms/step - loss: 0.6726 - accuracy: 0.7812 - val_loss: 0.6281 - val_accuracy: 0.7250\n",
            "Epoch 19/50\n",
            "16/16 [==============================] - 0s 5ms/step - loss: 0.6553 - accuracy: 0.8375 - val_loss: 0.6156 - val_accuracy: 0.8500\n",
            "Epoch 20/50\n",
            "16/16 [==============================] - 0s 4ms/step - loss: 0.6329 - accuracy: 0.9250 - val_loss: 0.6026 - val_accuracy: 0.8500\n",
            "Epoch 21/50\n",
            "16/16 [==============================] - 0s 5ms/step - loss: 0.6124 - accuracy: 0.8250 - val_loss: 0.5845 - val_accuracy: 0.7750\n",
            "Epoch 22/50\n",
            "16/16 [==============================] - 0s 4ms/step - loss: 0.5859 - accuracy: 0.8313 - val_loss: 0.5777 - val_accuracy: 0.7750\n",
            "Epoch 23/50\n",
            "16/16 [==============================] - 0s 5ms/step - loss: 0.5686 - accuracy: 0.9312 - val_loss: 0.5720 - val_accuracy: 0.8750\n",
            "Epoch 24/50\n",
            "16/16 [==============================] - 0s 5ms/step - loss: 0.5439 - accuracy: 0.8875 - val_loss: 0.5582 - val_accuracy: 0.7750\n",
            "Epoch 25/50\n",
            "16/16 [==============================] - 0s 5ms/step - loss: 0.5204 - accuracy: 0.9062 - val_loss: 0.5413 - val_accuracy: 0.8250\n",
            "Epoch 26/50\n",
            "16/16 [==============================] - 0s 5ms/step - loss: 0.4983 - accuracy: 0.9375 - val_loss: 0.5203 - val_accuracy: 0.8250\n",
            "Epoch 27/50\n",
            "16/16 [==============================] - 0s 5ms/step - loss: 0.4811 - accuracy: 0.9438 - val_loss: 0.5044 - val_accuracy: 0.8250\n",
            "Epoch 28/50\n",
            "16/16 [==============================] - 0s 5ms/step - loss: 0.4590 - accuracy: 0.9187 - val_loss: 0.4956 - val_accuracy: 0.8250\n",
            "Epoch 29/50\n",
            "16/16 [==============================] - 0s 6ms/step - loss: 0.4365 - accuracy: 0.9438 - val_loss: 0.4737 - val_accuracy: 0.8750\n",
            "Epoch 30/50\n",
            "16/16 [==============================] - 0s 4ms/step - loss: 0.4168 - accuracy: 0.9500 - val_loss: 0.4556 - val_accuracy: 0.8750\n",
            "Epoch 31/50\n",
            "16/16 [==============================] - 0s 5ms/step - loss: 0.3995 - accuracy: 0.9375 - val_loss: 0.4599 - val_accuracy: 0.8250\n",
            "Epoch 32/50\n",
            "16/16 [==============================] - 0s 5ms/step - loss: 0.3786 - accuracy: 0.9688 - val_loss: 0.4194 - val_accuracy: 0.8750\n",
            "Epoch 33/50\n",
            "16/16 [==============================] - 0s 5ms/step - loss: 0.3620 - accuracy: 0.9750 - val_loss: 0.4186 - val_accuracy: 0.8750\n",
            "Epoch 34/50\n",
            "16/16 [==============================] - 0s 5ms/step - loss: 0.3468 - accuracy: 0.9375 - val_loss: 0.4128 - val_accuracy: 0.8750\n",
            "Epoch 35/50\n",
            "16/16 [==============================] - 0s 5ms/step - loss: 0.3287 - accuracy: 0.9688 - val_loss: 0.3835 - val_accuracy: 0.9000\n",
            "Epoch 36/50\n",
            "16/16 [==============================] - 0s 4ms/step - loss: 0.3150 - accuracy: 0.9625 - val_loss: 0.3774 - val_accuracy: 0.9000\n",
            "Epoch 37/50\n",
            "16/16 [==============================] - 0s 5ms/step - loss: 0.2991 - accuracy: 0.9812 - val_loss: 0.3644 - val_accuracy: 0.9000\n",
            "Epoch 38/50\n",
            "16/16 [==============================] - 0s 5ms/step - loss: 0.2850 - accuracy: 0.9625 - val_loss: 0.3575 - val_accuracy: 0.9000\n",
            "Epoch 39/50\n",
            "16/16 [==============================] - 0s 5ms/step - loss: 0.2726 - accuracy: 0.9625 - val_loss: 0.3391 - val_accuracy: 0.9250\n",
            "Epoch 40/50\n",
            "16/16 [==============================] - 0s 5ms/step - loss: 0.2625 - accuracy: 0.9875 - val_loss: 0.3319 - val_accuracy: 0.9250\n",
            "Epoch 41/50\n",
            "16/16 [==============================] - 0s 5ms/step - loss: 0.2496 - accuracy: 0.9688 - val_loss: 0.3311 - val_accuracy: 0.9250\n",
            "Epoch 42/50\n",
            "16/16 [==============================] - 0s 5ms/step - loss: 0.2406 - accuracy: 0.9875 - val_loss: 0.3222 - val_accuracy: 0.9000\n",
            "Epoch 43/50\n",
            "16/16 [==============================] - 0s 5ms/step - loss: 0.2325 - accuracy: 0.9688 - val_loss: 0.3205 - val_accuracy: 0.9000\n",
            "Epoch 44/50\n",
            "16/16 [==============================] - 0s 5ms/step - loss: 0.2199 - accuracy: 0.9875 - val_loss: 0.3033 - val_accuracy: 0.9250\n",
            "Epoch 45/50\n",
            "16/16 [==============================] - 0s 5ms/step - loss: 0.2161 - accuracy: 0.9625 - val_loss: 0.3086 - val_accuracy: 0.9000\n",
            "Epoch 46/50\n",
            "16/16 [==============================] - 0s 4ms/step - loss: 0.2061 - accuracy: 0.9812 - val_loss: 0.2789 - val_accuracy: 0.9250\n",
            "Epoch 47/50\n",
            "16/16 [==============================] - 0s 5ms/step - loss: 0.1961 - accuracy: 0.9750 - val_loss: 0.2845 - val_accuracy: 0.9250\n",
            "Epoch 48/50\n",
            "16/16 [==============================] - 0s 5ms/step - loss: 0.1873 - accuracy: 0.9875 - val_loss: 0.2834 - val_accuracy: 0.9500\n",
            "Epoch 49/50\n",
            "16/16 [==============================] - 0s 4ms/step - loss: 0.1811 - accuracy: 0.9812 - val_loss: 0.2894 - val_accuracy: 0.9250\n",
            "Epoch 50/50\n",
            "16/16 [==============================] - 0s 5ms/step - loss: 0.1767 - accuracy: 0.9875 - val_loss: 0.2631 - val_accuracy: 0.9500\n",
            "2/2 [==============================] - 0s 8ms/step - loss: 0.2631 - accuracy: 0.9500\n",
            "Loss: 0.26313063502311707\n",
            "Accuracy: 0.949999988079071\n"
          ]
        }
      ]
    },
    {
      "cell_type": "code",
      "source": [
        "# Fazer previsões com o conjunto de teste\n",
        "y_pred_ANN = model.predict(X_test)\n",
        "y_pred_classes_ANN = np.argmax(y_pred_ANN, axis=1)\n",
        "\n",
        "# Avaliar o desempenho do modelo\n",
        "accuracy = accuracy_score(np.argmax(y_test, axis=1), y_pred_classes_ANN)\n",
        "print(f\"Acurácia: {accuracy:.2f}\")\n",
        "\n",
        "# Mostrar relatório de classificação\n",
        "print(\"Relatório de classificação:\")\n",
        "print(classification_report(np.argmax(y_test, axis=1), y_pred_classes_ANN))\n",
        "\n",
        "# Mostrar matriz de confusão\n",
        "print(\"Matriz de confusão:\")\n",
        "print(confusion_matrix(np.argmax(y_test, axis=1), y_pred_classes_ANN))\n",
        "\n",
        "# Exibir o histórico de treinamento\n",
        "import matplotlib.pyplot as plt\n",
        "\n",
        "plt.plot(history.history['accuracy'], label='Acurácia de treinamento')\n",
        "plt.plot(history.history['val_accuracy'], label='Acurácia de validação')\n",
        "plt.xlabel('Épocas')\n",
        "plt.ylabel('Acurácia')\n",
        "plt.legend()\n",
        "plt.show()"
      ],
      "metadata": {
        "colab": {
          "base_uri": "https://localhost:8080/",
          "height": 781
        },
        "id": "othk90e1s7H2",
        "outputId": "23350bd0-f125-436f-8d5b-0401b11f6fb2"
      },
      "execution_count": null,
      "outputs": [
        {
          "output_type": "stream",
          "name": "stdout",
          "text": [
            "2/2 [==============================] - 0s 5ms/step\n",
            "Acurácia: 0.95\n",
            "Relatório de classificação:\n",
            "              precision    recall  f1-score   support\n",
            "\n",
            "           0       1.00      1.00      1.00         6\n",
            "           1       1.00      0.87      0.93        15\n",
            "           2       0.82      1.00      0.90         9\n",
            "           3       1.00      1.00      1.00        10\n",
            "\n",
            "    accuracy                           0.95        40\n",
            "   macro avg       0.95      0.97      0.96        40\n",
            "weighted avg       0.96      0.95      0.95        40\n",
            "\n",
            "Matriz de confusão:\n",
            "[[ 6  0  0  0]\n",
            " [ 0 13  2  0]\n",
            " [ 0  0  9  0]\n",
            " [ 0  0  0 10]]\n"
          ]
        },
        {
          "output_type": "display_data",
          "data": {
            "text/plain": [
              "<Figure size 640x480 with 1 Axes>"
            ],
            "image/png": "[encoded data removed]"
          },
          "metadata": {}
        }
      ]
    },
    {
      "cell_type": "code",
      "source": [
        "from sklearn.model_selection import train_test_split\n",
        "x_train, x_test, y_train, y_test = train_test_split(X_KDE_wave, y_KDE_wave, test_size=0.2, random_state=0)\n",
        "# Apply SVM Model\n",
        "from sklearn.svm import SVC\n",
        "from sklearn.metrics import accuracy_score\n",
        "svc=SVC()\n",
        "svc.fit(x_train, y_train)\n",
        "y_pred=svc.predict(x_test)\n",
        "print('Model accuracy : {0:0.3f}'. format(accuracy_score(y_test, y_pred)))"
      ],
      "metadata": {
        "colab": {
          "base_uri": "https://localhost:8080/"
        },
        "id": "ySmG-7tsuOR2",
        "outputId": "b732f77f-bbea-499b-e876-db2a34fd20eb"
      },
      "execution_count": null,
      "outputs": [
        {
          "output_type": "stream",
          "name": "stdout",
          "text": [
            "Model accuracy : 0.750\n"
          ]
        }
      ]
    },
    {
      "cell_type": "code",
      "source": [
        "knn = KNeighborsClassifier(n_neighbors=4)\n",
        "knn.fit(x_train,y_train)\n",
        "print(\"Score for Number of Neighbors = 2: {}\".format(knn.score(x_test,y_test)))\n",
        "\n",
        "#Confusion Matrix\n",
        "y_pred = knn.predict(x_test)\n",
        "conf_mat = confusion_matrix(y_test,y_pred)\n",
        "#Visualization Confusion Matrix\n",
        "f, ax = plt.subplots(figsize=(5,5))\n",
        "sns.heatmap(conf_mat,annot=True,linewidths=0.5,linecolor=\"red\",fmt=\".0f\",ax=ax)\n",
        "plt.xlabel(\"Predicted Values\")\n",
        "plt.ylabel(\"True Values\")\n",
        "plt.show()"
      ],
      "metadata": {
        "colab": {
          "base_uri": "https://localhost:8080/",
          "height": 482
        },
        "id": "El_8f6ROtNBF",
        "outputId": "d7254d57-b517-4f4d-d992-baaee8d56c1a"
      },
      "execution_count": null,
      "outputs": [
        {
          "output_type": "stream",
          "name": "stdout",
          "text": [
            "Score for Number of Neighbors = 2: 0.825\n"
          ]
        },
        {
          "output_type": "display_data",
          "data": {
            "text/plain": [
              "<Figure size 500x500 with 2 Axes>"
            ],
            "image/png": "[encoded data removed]"
          },
          "metadata": {}
        }
      ]
    },
    {
      "cell_type": "code",
      "source": [],
      "metadata": {
        "id": "OP9S5r3NtgyW"
      },
      "execution_count": null,
      "outputs": []
    }
  ]
}