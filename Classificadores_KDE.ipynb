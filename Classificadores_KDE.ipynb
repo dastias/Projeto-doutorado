{
  "nbformat": 4,
  "nbformat_minor": 0,
  "metadata": {
    "colab": {
      "provenance": [],
      "authorship_tag": "ABX9TyPM8Zq0Rgh228kxVGPXAnGM",
      "include_colab_link": true
    },
    "kernelspec": {
      "name": "python3",
      "display_name": "Python 3"
    },
    "language_info": {
      "name": "python"
    }
  },
  "cells": [
    {
      "cell_type": "markdown",
      "metadata": {
        "id": "view-in-github",
        "colab_type": "text"
      },
      "source": [
        "<a href=\"https://colab.research.google.com/github/dastias/Projeto-doutorado/blob/main/Classificadores_KDE.ipynb\" target=\"_parent\"><img src=\"https://colab.research.google.com/assets/colab-badge.svg\" alt=\"Open In Colab\"/></a>"
      ]
    },
    {
      "cell_type": "code",
      "execution_count": null,
      "metadata": {
        "colab": {
          "base_uri": "https://localhost:8080/"
        },
        "id": "QAFv9ylKES5X",
        "outputId": "51d29bbc-61e6-498d-9d51-ca7cf11c2d48"
      },
      "outputs": [
        {
          "output_type": "stream",
          "name": "stdout",
          "text": [
            "Mounted at /content/drive\n"
          ]
        }
      ],
      "source": [
        "from google.colab import drive\n",
        "drive.mount('/content/drive')\n",
        "\n",
        "import pandas as pd\n",
        "import numpy as np\n",
        "import matplotlib.pyplot as plt\n",
        "from scipy.signal import find_peaks\n",
        "from scipy.signal import stft\n",
        "import matplotlib.pyplot as plt\n",
        "from sklearn.cluster import MeanShift\n",
        "from sklearn.datasets import make_blobs\n",
        "from scipy.fft import fft, ifft,rfft,irfft\n",
        "from sklearn.cluster import estimate_bandwidth\n",
        "import pywt"
      ]
    },
    {
      "cell_type": "markdown",
      "source": [
        "### Dados Padrão"
      ],
      "metadata": {
        "id": "QAND2QGuYKDT"
      }
    },
    {
      "cell_type": "code",
      "source": [
        "dados_normal = pd.read_csv('/content/drive/My Drive/DADOS DOUTORADO/Dados_VBL_NOR.csv')\n",
        "dados_bea = pd.read_csv('/content/drive/My Drive/DADOS DOUTORADO/Dados_VBL_BEA.csv')"
      ],
      "metadata": {
        "id": "nbdDYCwKWuQo"
      },
      "execution_count": null,
      "outputs": []
    },
    {
      "cell_type": "code",
      "source": [
        "dados_mis = pd.read_csv('/content/drive/My Drive/DADOS DOUTORADO/Dados_VBL_MIS.csv')\n",
        "dados_unb = pd.read_csv('/content/drive/My Drive/DADOS DOUTORADO/Dados_VBL_UNB.csv')"
      ],
      "metadata": {
        "id": "yX4htBd_Xrik"
      },
      "execution_count": null,
      "outputs": []
    },
    {
      "cell_type": "markdown",
      "source": [
        "### Dados Kde"
      ],
      "metadata": {
        "id": "k9C94RUoYN_v"
      }
    },
    {
      "cell_type": "code",
      "source": [
        "normal_KDE = pd.read_csv('/content/drive/My Drive/DADOS DOUTORADO/KDE_Filter/normal_filtrado_KDE_125.csv')\n",
        "bea_KDE = pd.read_csv('/content/drive/My Drive/DADOS DOUTORADO/KDE_Filter/bea_filtrado_KDE_125.csv')\n",
        "unb_KDE = pd.read_csv('/content/drive/My Drive/DADOS DOUTORADO/KDE_Filter/unb_filtrado_KDE_125.csv')\n",
        "mis_KDE = pd.read_csv('/content/drive/My Drive/DADOS DOUTORADO/KDE_Filter/mis_filtrado_KDE_125.csv')"
      ],
      "metadata": {
        "id": "WyJJAJwPXAoB"
      },
      "execution_count": null,
      "outputs": []
    },
    {
      "cell_type": "markdown",
      "source": [
        "### Dados Wave"
      ],
      "metadata": {
        "id": "LZ9Ht_-TYQ-q"
      }
    },
    {
      "cell_type": "code",
      "source": [
        "wave_normal = pd.read_csv('/content/drive/My Drive/DADOS DOUTORADO/Wave_KDE/wave_normal.csv')\n",
        "wave_bea = pd.read_csv('/content/drive/My Drive/DADOS DOUTORADO/Wave_KDE/wave_bea.csv')\n",
        "wave_mis = pd.read_csv('/content/drive/My Drive/DADOS DOUTORADO/Wave_KDE/wave_mis.csv')\n",
        "wave_unb = pd.read_csv('/content/drive/My Drive/DADOS DOUTORADO/Wave_KDE/wave_unb.csv')"
      ],
      "metadata": {
        "id": "jNRp3ibaX8eM"
      },
      "execution_count": null,
      "outputs": []
    },
    {
      "cell_type": "code",
      "source": [
        "def FFT(data):\n",
        "    '''FFT process and filtering'''\n",
        "    data = np.asarray(data)\n",
        "    fft = abs(rfft(data))\n",
        "    return fft"
      ],
      "metadata": {
        "id": "9r5d0MI5bCy4"
      },
      "execution_count": null,
      "outputs": []
    },
    {
      "cell_type": "code",
      "source": [
        "def mean(data):\n",
        "    '''Mean features'''\n",
        "    data = np.asarray(data)\n",
        "    M = pd.DataFrame(np.mean(data, axis=1))\n",
        "    return M"
      ],
      "metadata": {
        "id": "b8xGf4jhbNRe"
      },
      "execution_count": null,
      "outputs": []
    },
    {
      "cell_type": "code",
      "source": [
        "def pp(data):\n",
        "    '''Peak-to-Peak features'''\n",
        "    data = np.asarray(data)\n",
        "    PP = pd.DataFrame(np.max(data, axis=1) - np.min(data, axis=1))\n",
        "    return PP"
      ],
      "metadata": {
        "id": "wD5fHsYubPPi"
      },
      "execution_count": null,
      "outputs": []
    },
    {
      "cell_type": "code",
      "source": [
        "def rms(data):\n",
        "    '''RMS features'''\n",
        "    data = np.asarray(data)\n",
        "    Rms = pd.DataFrame(np.sqrt(np.mean(data**2, axis=1)))\n",
        "    return Rms"
      ],
      "metadata": {
        "id": "-MysV87IbVgF"
      },
      "execution_count": null,
      "outputs": []
    },
    {
      "cell_type": "markdown",
      "source": [
        "### Feature Dados Originais"
      ],
      "metadata": {
        "id": "lJ3aXHsrdhDl"
      }
    },
    {
      "cell_type": "code",
      "source": [
        "fft_normal = pd.DataFrame(FFT(dados_normal.iloc[:50]))\n",
        "fft_bea = pd.DataFrame(FFT(dados_bea.iloc[:50]))\n",
        "fft_mis = pd.DataFrame(FFT(dados_mis.iloc[:50]))\n",
        "fft_unb = pd.DataFrame(FFT(dados_unb.iloc[:50]))"
      ],
      "metadata": {
        "id": "e-IU3RVubamy"
      },
      "execution_count": null,
      "outputs": []
    },
    {
      "cell_type": "code",
      "source": [
        "data_merged = pd.concat((fft_normal, fft_bea,fft_mis,fft_unb))"
      ],
      "metadata": {
        "id": "OFr9CWRgdk5M"
      },
      "execution_count": null,
      "outputs": []
    },
    {
      "cell_type": "code",
      "source": [
        "def NormalizeData(data):  # Normalisasi (0-1)\n",
        "    data_max = np.max(data_merged)\n",
        "    data_min = np.min(data_merged)\n",
        "    return pd.DataFrame((data - np.min(data_min)) / (np.max(data_max) - np.min(data_min)))"
      ],
      "metadata": {
        "id": "qgcYk5M4dnOu"
      },
      "execution_count": null,
      "outputs": []
    },
    {
      "cell_type": "code",
      "source": [
        "fft_normal_norm = NormalizeData(fft_normal)\n",
        "fft_bea_norm = NormalizeData(fft_bea)\n",
        "fft_mis_norm = NormalizeData(fft_mis)\n",
        "fft_unb_norm = NormalizeData(fft_unb)\n",
        "\n",
        "media_normal = mean(fft_normal_norm)\n",
        "media_bea = mean(fft_bea_norm)\n",
        "media_mis = mean(fft_mis_norm)\n",
        "media_unb = mean(fft_unb_norm)\n",
        "\n",
        "pp_normal = pp(fft_normal_norm)\n",
        "pp_bea = pp(fft_bea_norm)\n",
        "pp_mis = pp(fft_mis_norm)\n",
        "pp_unb = pp(fft_unb_norm)\n",
        "\n",
        "rms_normal = rms(fft_normal_norm)\n",
        "rms_bea = rms(fft_bea_norm)\n",
        "rms_mis = rms(fft_mis_norm)\n",
        "rms_unb = rms(fft_unb_norm)"
      ],
      "metadata": {
        "id": "2Qnu2PINdqlS"
      },
      "execution_count": null,
      "outputs": []
    },
    {
      "cell_type": "code",
      "source": [
        "feat_normal = pd.concat((media_normal, pp_normal, rms_normal), axis=1)\n",
        "feat_bea = pd.concat((media_bea, pp_bea, rms_bea), axis=1)\n",
        "feat_mis = pd.concat((media_mis, pp_mis, rms_mis), axis=1)\n",
        "feat_unb = pd.concat((media_unb, pp_unb, rms_unb), axis=1)\n",
        "\n",
        "feat_normal.columns = ['media', 'pp', 'rms']\n",
        "feat_bea.columns = ['media', 'pp', 'rms']\n",
        "feat_mis.columns = ['media', 'pp', 'rms']\n",
        "feat_unb.columns = ['media', 'pp', 'rms']\n",
        "\n",
        "feat_normal['cond']=0\n",
        "feat_bea['cond']=1\n",
        "feat_mis['cond']=2\n",
        "feat_unb['cond']=3\n",
        "\n",
        "matriz_classificacao = pd.concat((feat_normal, feat_bea, feat_mis, feat_unb))"
      ],
      "metadata": {
        "id": "9QuNHG1hdxYb"
      },
      "execution_count": null,
      "outputs": []
    },
    {
      "cell_type": "markdown",
      "source": [
        "###Classificador ANN Dados Originais\n"
      ],
      "metadata": {
        "id": "sAhUrFRoeaXQ"
      }
    },
    {
      "cell_type": "code",
      "source": [
        "X = matriz_classificacao.drop('cond', axis=1)\n",
        "y = matriz_classificacao['cond']"
      ],
      "metadata": {
        "id": "usSHGxtKd8iQ"
      },
      "execution_count": null,
      "outputs": []
    },
    {
      "cell_type": "code",
      "source": [
        "import numpy as np\n",
        "import tensorflow as tf\n",
        "from tensorflow.keras.models import Sequential\n",
        "from tensorflow.keras.layers import Dense\n",
        "from sklearn.model_selection import train_test_split\n",
        "from sklearn.preprocessing import StandardScaler\n",
        "from sklearn.metrics import classification_report, confusion_matrix, accuracy_score\n",
        "\n",
        "\n",
        "\n",
        "# Dividindo em conjunto de treino e teste\n",
        "X_train, X_test, y_train, y_test = train_test_split(X, y, test_size=0.2, random_state=42)\n",
        "\n",
        "# Padronizando os dados\n",
        "scaler = StandardScaler()\n",
        "X_train = scaler.fit_transform(X_train)\n",
        "X_test = scaler.transform(X_test)\n",
        "\n",
        "y_train = tf.keras.utils.to_categorical(y_train, num_classes=4)\n",
        "y_test = tf.keras.utils.to_categorical(y_test, num_classes=4)\n",
        "\n",
        "# Construindo o modelo\n",
        "model = Sequential()\n",
        "model.add(Dense(32, input_dim=3, activation='relu'))  # Primeira camada oculta com 12 neurônios\n",
        "model.add(Dense(16, activation='relu'))                # Segunda camada oculta com 8 neurônios\n",
        "model.add(Dense(4, activation='softmax'))             # Camada de saída com 1 neurônio e ativação sigmoid para classificação binária\n",
        "\n",
        "# Compilando o modelo\n",
        "model.compile(loss='categorical_crossentropy', optimizer='adam', metrics=['accuracy'])\n",
        "\n",
        "# Treinando o modelo\n",
        "history=model.fit(X_train, y_train, epochs=50, batch_size=10, validation_data=(X_test, y_test))\n",
        "\n",
        "# Avaliando o modelo\n",
        "loss, accuracy = model.evaluate(X_test, y_test)\n",
        "print(f\"Loss: {loss}\")\n",
        "print(f\"Accuracy: {accuracy}\")"
      ],
      "metadata": {
        "colab": {
          "base_uri": "https://localhost:8080/"
        },
        "id": "d4OuoHHdeiq9",
        "outputId": "df2ae79f-9ca1-4d45-839e-00bec4c1b20e"
      },
      "execution_count": null,
      "outputs": [
        {
          "output_type": "stream",
          "name": "stdout",
          "text": [
            "Epoch 1/50\n",
            "16/16 [==============================] - 2s 29ms/step - loss: 1.1867 - accuracy: 0.5750 - val_loss: 1.1572 - val_accuracy: 0.6000\n",
            "Epoch 2/50\n",
            "16/16 [==============================] - 0s 7ms/step - loss: 1.0657 - accuracy: 0.7063 - val_loss: 1.0463 - val_accuracy: 0.6500\n",
            "Epoch 3/50\n",
            "16/16 [==============================] - 0s 8ms/step - loss: 0.9454 - accuracy: 0.7375 - val_loss: 0.9365 - val_accuracy: 0.6500\n",
            "Epoch 4/50\n",
            "16/16 [==============================] - 0s 8ms/step - loss: 0.8304 - accuracy: 0.7375 - val_loss: 0.8325 - val_accuracy: 0.6500\n",
            "Epoch 5/50\n",
            "16/16 [==============================] - 0s 8ms/step - loss: 0.7244 - accuracy: 0.7375 - val_loss: 0.7412 - val_accuracy: 0.6500\n",
            "Epoch 6/50\n",
            "16/16 [==============================] - 0s 10ms/step - loss: 0.6343 - accuracy: 0.7375 - val_loss: 0.6660 - val_accuracy: 0.6500\n",
            "Epoch 7/50\n",
            "16/16 [==============================] - 0s 7ms/step - loss: 0.5591 - accuracy: 0.7375 - val_loss: 0.6001 - val_accuracy: 0.6500\n",
            "Epoch 8/50\n",
            "16/16 [==============================] - 0s 8ms/step - loss: 0.4971 - accuracy: 0.7437 - val_loss: 0.5441 - val_accuracy: 0.6500\n",
            "Epoch 9/50\n",
            "16/16 [==============================] - 0s 7ms/step - loss: 0.4417 - accuracy: 0.7875 - val_loss: 0.4986 - val_accuracy: 0.7000\n",
            "Epoch 10/50\n",
            "16/16 [==============================] - 0s 6ms/step - loss: 0.3962 - accuracy: 0.8813 - val_loss: 0.4547 - val_accuracy: 0.8500\n",
            "Epoch 11/50\n",
            "16/16 [==============================] - 0s 6ms/step - loss: 0.3576 - accuracy: 0.8813 - val_loss: 0.4257 - val_accuracy: 0.8500\n",
            "Epoch 12/50\n",
            "16/16 [==============================] - 0s 9ms/step - loss: 0.3248 - accuracy: 0.9312 - val_loss: 0.3956 - val_accuracy: 0.8750\n",
            "Epoch 13/50\n",
            "16/16 [==============================] - 0s 12ms/step - loss: 0.2958 - accuracy: 0.9563 - val_loss: 0.3651 - val_accuracy: 0.9000\n",
            "Epoch 14/50\n",
            "16/16 [==============================] - 0s 9ms/step - loss: 0.2708 - accuracy: 0.9563 - val_loss: 0.3437 - val_accuracy: 0.9000\n",
            "Epoch 15/50\n",
            "16/16 [==============================] - 0s 7ms/step - loss: 0.2444 - accuracy: 0.9688 - val_loss: 0.3187 - val_accuracy: 0.9000\n",
            "Epoch 16/50\n",
            "16/16 [==============================] - 0s 6ms/step - loss: 0.2199 - accuracy: 0.9688 - val_loss: 0.3015 - val_accuracy: 0.9000\n",
            "Epoch 17/50\n",
            "16/16 [==============================] - 0s 7ms/step - loss: 0.1975 - accuracy: 0.9750 - val_loss: 0.2820 - val_accuracy: 0.9000\n",
            "Epoch 18/50\n",
            "16/16 [==============================] - 0s 7ms/step - loss: 0.1815 - accuracy: 0.9750 - val_loss: 0.2667 - val_accuracy: 0.9000\n",
            "Epoch 19/50\n",
            "16/16 [==============================] - 0s 8ms/step - loss: 0.1650 - accuracy: 0.9750 - val_loss: 0.2533 - val_accuracy: 0.9000\n",
            "Epoch 20/50\n",
            "16/16 [==============================] - 0s 7ms/step - loss: 0.1514 - accuracy: 0.9812 - val_loss: 0.2400 - val_accuracy: 0.9000\n",
            "Epoch 21/50\n",
            "16/16 [==============================] - 0s 9ms/step - loss: 0.1392 - accuracy: 0.9812 - val_loss: 0.2280 - val_accuracy: 0.9000\n",
            "Epoch 22/50\n",
            "16/16 [==============================] - 0s 11ms/step - loss: 0.1278 - accuracy: 0.9812 - val_loss: 0.2143 - val_accuracy: 0.9000\n",
            "Epoch 23/50\n",
            "16/16 [==============================] - 0s 7ms/step - loss: 0.1172 - accuracy: 0.9812 - val_loss: 0.2037 - val_accuracy: 0.9000\n",
            "Epoch 24/50\n",
            "16/16 [==============================] - 0s 8ms/step - loss: 0.1083 - accuracy: 0.9812 - val_loss: 0.1984 - val_accuracy: 0.9000\n",
            "Epoch 25/50\n",
            "16/16 [==============================] - 0s 5ms/step - loss: 0.1006 - accuracy: 0.9812 - val_loss: 0.1873 - val_accuracy: 0.9000\n",
            "Epoch 26/50\n",
            "16/16 [==============================] - 0s 5ms/step - loss: 0.0951 - accuracy: 0.9812 - val_loss: 0.1787 - val_accuracy: 0.9000\n",
            "Epoch 27/50\n",
            "16/16 [==============================] - 0s 4ms/step - loss: 0.0865 - accuracy: 0.9812 - val_loss: 0.1708 - val_accuracy: 0.9000\n",
            "Epoch 28/50\n",
            "16/16 [==============================] - 0s 5ms/step - loss: 0.0810 - accuracy: 0.9812 - val_loss: 0.1659 - val_accuracy: 0.9000\n",
            "Epoch 29/50\n",
            "16/16 [==============================] - 0s 5ms/step - loss: 0.0762 - accuracy: 0.9812 - val_loss: 0.1582 - val_accuracy: 0.9000\n",
            "Epoch 30/50\n",
            "16/16 [==============================] - 0s 5ms/step - loss: 0.0714 - accuracy: 0.9812 - val_loss: 0.1571 - val_accuracy: 0.9000\n",
            "Epoch 31/50\n",
            "16/16 [==============================] - 0s 5ms/step - loss: 0.0667 - accuracy: 0.9812 - val_loss: 0.1482 - val_accuracy: 0.9000\n",
            "Epoch 32/50\n",
            "16/16 [==============================] - 0s 5ms/step - loss: 0.0640 - accuracy: 0.9875 - val_loss: 0.1435 - val_accuracy: 0.9250\n",
            "Epoch 33/50\n",
            "16/16 [==============================] - 0s 5ms/step - loss: 0.0586 - accuracy: 0.9937 - val_loss: 0.1364 - val_accuracy: 0.9500\n",
            "Epoch 34/50\n",
            "16/16 [==============================] - 0s 5ms/step - loss: 0.0564 - accuracy: 0.9875 - val_loss: 0.1294 - val_accuracy: 0.9500\n",
            "Epoch 35/50\n",
            "16/16 [==============================] - 0s 5ms/step - loss: 0.0529 - accuracy: 0.9937 - val_loss: 0.1280 - val_accuracy: 0.9500\n",
            "Epoch 36/50\n",
            "16/16 [==============================] - 0s 5ms/step - loss: 0.0506 - accuracy: 0.9937 - val_loss: 0.1229 - val_accuracy: 0.9500\n",
            "Epoch 37/50\n",
            "16/16 [==============================] - 0s 4ms/step - loss: 0.0481 - accuracy: 0.9875 - val_loss: 0.1178 - val_accuracy: 0.9500\n",
            "Epoch 38/50\n",
            "16/16 [==============================] - 0s 5ms/step - loss: 0.0454 - accuracy: 0.9937 - val_loss: 0.1176 - val_accuracy: 0.9500\n",
            "Epoch 39/50\n",
            "16/16 [==============================] - 0s 5ms/step - loss: 0.0430 - accuracy: 0.9937 - val_loss: 0.1116 - val_accuracy: 0.9750\n",
            "Epoch 40/50\n",
            "16/16 [==============================] - 0s 6ms/step - loss: 0.0411 - accuracy: 0.9937 - val_loss: 0.1088 - val_accuracy: 0.9750\n",
            "Epoch 41/50\n",
            "16/16 [==============================] - 0s 7ms/step - loss: 0.0397 - accuracy: 1.0000 - val_loss: 0.1059 - val_accuracy: 0.9750\n",
            "Epoch 42/50\n",
            "16/16 [==============================] - 0s 7ms/step - loss: 0.0377 - accuracy: 1.0000 - val_loss: 0.1049 - val_accuracy: 0.9750\n",
            "Epoch 43/50\n",
            "16/16 [==============================] - 0s 6ms/step - loss: 0.0357 - accuracy: 1.0000 - val_loss: 0.1042 - val_accuracy: 0.9750\n",
            "Epoch 44/50\n",
            "16/16 [==============================] - 0s 5ms/step - loss: 0.0346 - accuracy: 1.0000 - val_loss: 0.0977 - val_accuracy: 0.9750\n",
            "Epoch 45/50\n",
            "16/16 [==============================] - 0s 5ms/step - loss: 0.0333 - accuracy: 1.0000 - val_loss: 0.0939 - val_accuracy: 0.9750\n",
            "Epoch 46/50\n",
            "16/16 [==============================] - 0s 5ms/step - loss: 0.0315 - accuracy: 1.0000 - val_loss: 0.0922 - val_accuracy: 0.9750\n",
            "Epoch 47/50\n",
            "16/16 [==============================] - 0s 5ms/step - loss: 0.0300 - accuracy: 1.0000 - val_loss: 0.0920 - val_accuracy: 0.9750\n",
            "Epoch 48/50\n",
            "16/16 [==============================] - 0s 6ms/step - loss: 0.0293 - accuracy: 1.0000 - val_loss: 0.0874 - val_accuracy: 0.9750\n",
            "Epoch 49/50\n",
            "16/16 [==============================] - 0s 6ms/step - loss: 0.0286 - accuracy: 1.0000 - val_loss: 0.0891 - val_accuracy: 0.9750\n",
            "Epoch 50/50\n",
            "16/16 [==============================] - 0s 5ms/step - loss: 0.0266 - accuracy: 1.0000 - val_loss: 0.0874 - val_accuracy: 0.9750\n",
            "2/2 [==============================] - 0s 15ms/step - loss: 0.0874 - accuracy: 0.9750\n",
            "Loss: 0.08736623823642731\n",
            "Accuracy: 0.9750000238418579\n"
          ]
        }
      ]
    },
    {
      "cell_type": "code",
      "source": [
        "# Fazer previsões com o conjunto de teste\n",
        "y_pred_ANN = model.predict(X_test)\n",
        "y_pred_classes_ANN = np.argmax(y_pred_ANN, axis=1)\n",
        "\n",
        "# Avaliar o desempenho do modelo\n",
        "accuracy = accuracy_score(np.argmax(y_test, axis=1), y_pred_classes_ANN)\n",
        "print(f\"Acurácia: {accuracy:.2f}\")\n",
        "\n",
        "# Mostrar relatório de classificação\n",
        "print(\"Relatório de classificação:\")\n",
        "print(classification_report(np.argmax(y_test, axis=1), y_pred_classes_ANN))\n",
        "\n",
        "# Mostrar matriz de confusão\n",
        "print(\"Matriz de confusão:\")\n",
        "print(confusion_matrix(np.argmax(y_test, axis=1), y_pred_classes_ANN))\n",
        "\n",
        "# Exibir o histórico de treinamento\n",
        "import matplotlib.pyplot as plt\n",
        "\n",
        "plt.plot(history.history['accuracy'], label='Acurácia de treinamento')\n",
        "plt.plot(history.history['val_accuracy'], label='Acurácia de validação')\n",
        "plt.xlabel('Épocas')\n",
        "plt.ylabel('Acurácia')\n",
        "plt.legend()\n",
        "plt.show()"
      ],
      "metadata": {
        "colab": {
          "base_uri": "https://localhost:8080/",
          "height": 781
        },
        "id": "k0_8494EerjG",
        "outputId": "37d479f9-7b97-4f12-bf5a-e10bb8972ac8"
      },
      "execution_count": null,
      "outputs": [
        {
          "output_type": "stream",
          "name": "stdout",
          "text": [
            "2/2 [==============================] - 0s 6ms/step\n",
            "Acurácia: 0.97\n",
            "Relatório de classificação:\n",
            "              precision    recall  f1-score   support\n",
            "\n",
            "           0       1.00      1.00      1.00         6\n",
            "           1       1.00      0.93      0.97        15\n",
            "           2       0.90      1.00      0.95         9\n",
            "           3       1.00      1.00      1.00        10\n",
            "\n",
            "    accuracy                           0.97        40\n",
            "   macro avg       0.97      0.98      0.98        40\n",
            "weighted avg       0.98      0.97      0.98        40\n",
            "\n",
            "Matriz de confusão:\n",
            "[[ 6  0  0  0]\n",
            " [ 0 14  1  0]\n",
            " [ 0  0  9  0]\n",
            " [ 0  0  0 10]]\n"
          ]
        },
        {
          "output_type": "display_data",
          "data": {
            "text/plain": [
              "<Figure size 640x480 with 1 Axes>"
            ],
            "image/png": "[encoded data removed]"
          },
          "metadata": {}
        }
      ]
    },
    {
      "cell_type": "markdown",
      "source": [
        "### Features Dados KDE"
      ],
      "metadata": {
        "id": "T90sdLW_fHNq"
      }
    },
    {
      "cell_type": "code",
      "source": [
        "fft_normal_KDE = pd.DataFrame(FFT(normal_KDE.iloc[:50]))\n",
        "fft_bea_KDE = pd.DataFrame(FFT(bea_KDE.iloc[:50]))\n",
        "fft_mis_KDE = pd.DataFrame(FFT(mis_KDE.iloc[:50]))\n",
        "fft_unb_KDE = pd.DataFrame(FFT(unb_KDE.iloc[:50]))"
      ],
      "metadata": {
        "id": "XhvvNOJMezn_"
      },
      "execution_count": null,
      "outputs": []
    },
    {
      "cell_type": "code",
      "source": [
        "data_merged_KDE = pd.concat((fft_normal_KDE, fft_bea_KDE,fft_mis_KDE,fft_unb_KDE))"
      ],
      "metadata": {
        "id": "2eauzfYye9zR"
      },
      "execution_count": null,
      "outputs": []
    },
    {
      "cell_type": "code",
      "source": [
        "def NormalizeDataKDE(data):  # Normalisasi (0-1)\n",
        "    data_max = np.max(data_merged_KDE)\n",
        "    data_min = np.min(data_merged_KDE)\n",
        "    return pd.DataFrame((data - np.min(data_min)) / (np.max(data_max) - np.min(data_min)))"
      ],
      "metadata": {
        "id": "7tUbXOi1f72W"
      },
      "execution_count": null,
      "outputs": []
    },
    {
      "cell_type": "code",
      "source": [
        "fft_normal_norm_KDE = NormalizeData(fft_normal_KDE)\n",
        "fft_bea_norm_KDE = NormalizeData(fft_bea_KDE)\n",
        "fft_mis_norm_KDE = NormalizeData(fft_mis_KDE)\n",
        "fft_unb_norm_KDE = NormalizeData(fft_unb_KDE)\n",
        "\n",
        "\n",
        "media_normal_KDE = mean(fft_normal_norm_KDE)\n",
        "media_bea_KDE = mean(fft_bea_norm_KDE)\n",
        "media_mis_KDE = mean(fft_mis_norm_KDE)\n",
        "media_unb_KDE = mean(fft_unb_norm_KDE)\n",
        "\n",
        "pp_normal_KDE = pp(fft_normal_norm_KDE)\n",
        "pp_bea_KDE = pp(fft_bea_norm_KDE)\n",
        "pp_mis_KDE = pp(fft_mis_norm_KDE)\n",
        "pp_unb_KDE = pp(fft_unb_norm_KDE)\n",
        "\n",
        "rms_normal_KDE = rms(fft_normal_norm_KDE)\n",
        "rms_bea_KDE = rms(fft_bea_norm_KDE)\n",
        "rms_mis_KDE = rms(fft_mis_norm_KDE)\n",
        "rms_unb_KDE = rms(fft_unb_norm_KDE)"
      ],
      "metadata": {
        "id": "d5EYP4LxgPK4"
      },
      "execution_count": null,
      "outputs": []
    },
    {
      "cell_type": "code",
      "source": [
        "feat_normal_KDE = pd.concat((media_normal_KDE, pp_normal_KDE, rms_normal_KDE), axis=1)\n",
        "feat_bea_KDE = pd.concat((media_bea_KDE, pp_bea_KDE, rms_bea_KDE), axis=1)\n",
        "feat_mis_KDE = pd.concat((media_mis_KDE, pp_mis_KDE, rms_mis_KDE), axis=1)\n",
        "feat_unb_KDE = pd.concat((media_unb_KDE, pp_unb_KDE, rms_unb_KDE), axis=1)"
      ],
      "metadata": {
        "id": "rGJMvjyUnFkl"
      },
      "execution_count": null,
      "outputs": []
    },
    {
      "cell_type": "code",
      "source": [
        "feat_normal_KDE.columns = ['media', 'pp', 'rms']\n",
        "feat_bea_KDE.columns = ['media', 'pp', 'rms']\n",
        "feat_mis_KDE.columns = ['media', 'pp', 'rms']\n",
        "feat_unb_KDE.columns = ['media', 'pp', 'rms']\n",
        "\n",
        "feat_normal_KDE['cond']=0\n",
        "feat_bea_KDE['cond']=1\n",
        "feat_mis_KDE['cond']=2\n",
        "feat_unb_KDE['cond']=3\n",
        "\n",
        "matriz_classificacao_KDE = pd.concat((feat_normal_KDE, feat_bea_KDE, feat_mis_KDE, feat_unb_KDE))"
      ],
      "metadata": {
        "id": "Fkc1CIt9nR3S"
      },
      "execution_count": null,
      "outputs": []
    },
    {
      "cell_type": "markdown",
      "source": [
        "### Classificador ANN para KDE"
      ],
      "metadata": {
        "id": "-YfXTmN-n98b"
      }
    },
    {
      "cell_type": "code",
      "source": [
        "X_KDE = matriz_classificacao_KDE.drop('cond', axis=1)\n",
        "y_KDE = matriz_classificacao_KDE['cond']"
      ],
      "metadata": {
        "id": "LexWp_Zpn660"
      },
      "execution_count": null,
      "outputs": []
    },
    {
      "cell_type": "code",
      "source": [
        "import numpy as np\n",
        "import tensorflow as tf\n",
        "from tensorflow.keras.models import Sequential\n",
        "from tensorflow.keras.layers import Dense\n",
        "from sklearn.model_selection import train_test_split\n",
        "from sklearn.preprocessing import StandardScaler\n",
        "from sklearn.metrics import classification_report, confusion_matrix, accuracy_score\n",
        "\n",
        "\n",
        "\n",
        "# Dividindo em conjunto de treino e teste\n",
        "X_train_KDE, X_test_KDE, y_train_KDE, y_test_KDE = train_test_split(X_KDE, y_KDE, test_size=0.2, random_state=42)\n",
        "\n",
        "# Padronizando os dados\n",
        "scaler = StandardScaler()\n",
        "X_train_KDE = scaler.fit_transform(X_train_KDE)\n",
        "X_test_KDE = scaler.transform(X_test_KDE)\n",
        "\n",
        "y_train_KDE = tf.keras.utils.to_categorical(y_train_KDE, num_classes=4)\n",
        "y_test_KDE = tf.keras.utils.to_categorical(y_test_KDE, num_classes=4)\n",
        "\n",
        "# Construindo o modelo\n",
        "model = Sequential()\n",
        "model.add(Dense(32, input_dim=3, activation='relu'))  # Primeira camada oculta com 12 neurônios\n",
        "model.add(Dense(16, activation='relu'))                # Segunda camada oculta com 8 neurônios\n",
        "model.add(Dense(4, activation='softmax'))             # Camada de saída com 1 neurônio e ativação sigmoid para classificação binária\n",
        "\n",
        "# Compilando o modelo\n",
        "model.compile(loss='categorical_crossentropy', optimizer='adam', metrics=['accuracy'])\n",
        "\n",
        "# Treinando o modelo\n",
        "history=model.fit(X_train_KDE, y_train_KDE, epochs=50, batch_size=10, validation_data=(X_test_KDE, y_test_KDE))\n",
        "\n",
        "# Avaliando o modelo\n",
        "loss, accuracy = model.evaluate(X_test_KDE, y_test_KDE)\n",
        "print(f\"Loss: {loss}\")\n",
        "print(f\"Accuracy: {accuracy}\")"
      ],
      "metadata": {
        "colab": {
          "base_uri": "https://localhost:8080/"
        },
        "id": "wiMYjZ8PoJE8",
        "outputId": "024d3ec6-2922-4b74-c694-57df097406dd"
      },
      "execution_count": null,
      "outputs": [
        {
          "output_type": "stream",
          "name": "stdout",
          "text": [
            "Epoch 1/50\n",
            "16/16 [==============================] - 1s 21ms/step - loss: 1.3811 - accuracy: 0.2313 - val_loss: 1.2426 - val_accuracy: 0.4250\n",
            "Epoch 2/50\n",
            "16/16 [==============================] - 0s 6ms/step - loss: 1.2375 - accuracy: 0.6187 - val_loss: 1.1453 - val_accuracy: 0.7750\n",
            "Epoch 3/50\n",
            "16/16 [==============================] - 0s 10ms/step - loss: 1.1417 - accuracy: 0.7063 - val_loss: 1.0717 - val_accuracy: 0.8000\n",
            "Epoch 4/50\n",
            "16/16 [==============================] - 0s 10ms/step - loss: 1.0798 - accuracy: 0.7250 - val_loss: 1.0081 - val_accuracy: 0.8500\n",
            "Epoch 5/50\n",
            "16/16 [==============================] - 0s 13ms/step - loss: 1.0222 - accuracy: 0.7250 - val_loss: 0.9455 - val_accuracy: 0.8500\n",
            "Epoch 6/50\n",
            "16/16 [==============================] - 0s 6ms/step - loss: 0.9626 - accuracy: 0.7250 - val_loss: 0.8813 - val_accuracy: 0.8500\n",
            "Epoch 7/50\n",
            "16/16 [==============================] - 0s 5ms/step - loss: 0.8982 - accuracy: 0.7250 - val_loss: 0.8200 - val_accuracy: 0.8500\n",
            "Epoch 8/50\n",
            "16/16 [==============================] - 0s 4ms/step - loss: 0.8320 - accuracy: 0.7250 - val_loss: 0.7590 - val_accuracy: 0.8500\n",
            "Epoch 9/50\n",
            "16/16 [==============================] - 0s 5ms/step - loss: 0.7636 - accuracy: 0.6812 - val_loss: 0.7004 - val_accuracy: 0.8000\n",
            "Epoch 10/50\n",
            "16/16 [==============================] - 0s 7ms/step - loss: 0.6957 - accuracy: 0.8375 - val_loss: 0.6424 - val_accuracy: 0.9000\n",
            "Epoch 11/50\n",
            "16/16 [==============================] - 0s 11ms/step - loss: 0.6316 - accuracy: 0.8750 - val_loss: 0.5915 - val_accuracy: 0.8500\n",
            "Epoch 12/50\n",
            "16/16 [==============================] - 0s 5ms/step - loss: 0.5700 - accuracy: 0.8562 - val_loss: 0.5434 - val_accuracy: 0.8750\n",
            "Epoch 13/50\n",
            "16/16 [==============================] - 0s 6ms/step - loss: 0.5154 - accuracy: 0.8438 - val_loss: 0.5037 - val_accuracy: 0.8500\n",
            "Epoch 14/50\n",
            "16/16 [==============================] - 0s 6ms/step - loss: 0.4710 - accuracy: 0.8125 - val_loss: 0.4737 - val_accuracy: 0.8000\n",
            "Epoch 15/50\n",
            "16/16 [==============================] - 0s 6ms/step - loss: 0.4361 - accuracy: 0.8062 - val_loss: 0.4479 - val_accuracy: 0.8000\n",
            "Epoch 16/50\n",
            "16/16 [==============================] - 0s 5ms/step - loss: 0.4060 - accuracy: 0.8375 - val_loss: 0.4225 - val_accuracy: 0.8500\n",
            "Epoch 17/50\n",
            "16/16 [==============================] - 0s 6ms/step - loss: 0.3810 - accuracy: 0.8562 - val_loss: 0.4033 - val_accuracy: 0.8500\n",
            "Epoch 18/50\n",
            "16/16 [==============================] - 0s 6ms/step - loss: 0.3569 - accuracy: 0.8750 - val_loss: 0.3837 - val_accuracy: 0.8750\n",
            "Epoch 19/50\n",
            "16/16 [==============================] - 0s 4ms/step - loss: 0.3353 - accuracy: 0.8938 - val_loss: 0.3618 - val_accuracy: 0.9000\n",
            "Epoch 20/50\n",
            "16/16 [==============================] - 0s 6ms/step - loss: 0.3147 - accuracy: 0.9563 - val_loss: 0.3437 - val_accuracy: 0.8750\n",
            "Epoch 21/50\n",
            "16/16 [==============================] - 0s 6ms/step - loss: 0.2955 - accuracy: 0.9563 - val_loss: 0.3270 - val_accuracy: 0.9000\n",
            "Epoch 22/50\n",
            "16/16 [==============================] - 0s 6ms/step - loss: 0.2771 - accuracy: 0.9625 - val_loss: 0.3156 - val_accuracy: 0.9000\n",
            "Epoch 23/50\n",
            "16/16 [==============================] - 0s 5ms/step - loss: 0.2606 - accuracy: 0.9812 - val_loss: 0.2992 - val_accuracy: 0.9250\n",
            "Epoch 24/50\n",
            "16/16 [==============================] - 0s 7ms/step - loss: 0.2442 - accuracy: 0.9812 - val_loss: 0.2868 - val_accuracy: 0.9250\n",
            "Epoch 25/50\n",
            "16/16 [==============================] - 0s 4ms/step - loss: 0.2296 - accuracy: 0.9875 - val_loss: 0.2727 - val_accuracy: 0.9250\n",
            "Epoch 26/50\n",
            "16/16 [==============================] - 0s 4ms/step - loss: 0.2146 - accuracy: 0.9875 - val_loss: 0.2618 - val_accuracy: 0.9250\n",
            "Epoch 27/50\n",
            "16/16 [==============================] - 0s 5ms/step - loss: 0.2011 - accuracy: 0.9937 - val_loss: 0.2513 - val_accuracy: 0.9250\n",
            "Epoch 28/50\n",
            "16/16 [==============================] - 0s 5ms/step - loss: 0.1885 - accuracy: 1.0000 - val_loss: 0.2404 - val_accuracy: 0.9250\n",
            "Epoch 29/50\n",
            "16/16 [==============================] - 0s 4ms/step - loss: 0.1756 - accuracy: 0.9937 - val_loss: 0.2287 - val_accuracy: 0.9250\n",
            "Epoch 30/50\n",
            "16/16 [==============================] - 0s 4ms/step - loss: 0.1643 - accuracy: 1.0000 - val_loss: 0.2212 - val_accuracy: 0.9250\n",
            "Epoch 31/50\n",
            "16/16 [==============================] - 0s 5ms/step - loss: 0.1539 - accuracy: 0.9937 - val_loss: 0.2099 - val_accuracy: 0.9250\n",
            "Epoch 32/50\n",
            "16/16 [==============================] - 0s 4ms/step - loss: 0.1438 - accuracy: 1.0000 - val_loss: 0.2046 - val_accuracy: 0.9250\n",
            "Epoch 33/50\n",
            "16/16 [==============================] - 0s 5ms/step - loss: 0.1331 - accuracy: 1.0000 - val_loss: 0.1973 - val_accuracy: 0.9250\n",
            "Epoch 34/50\n",
            "16/16 [==============================] - 0s 5ms/step - loss: 0.1248 - accuracy: 1.0000 - val_loss: 0.1872 - val_accuracy: 0.9250\n",
            "Epoch 35/50\n",
            "16/16 [==============================] - 0s 7ms/step - loss: 0.1172 - accuracy: 1.0000 - val_loss: 0.1798 - val_accuracy: 0.9250\n",
            "Epoch 36/50\n",
            "16/16 [==============================] - 0s 6ms/step - loss: 0.1096 - accuracy: 1.0000 - val_loss: 0.1739 - val_accuracy: 0.9250\n",
            "Epoch 37/50\n",
            "16/16 [==============================] - 0s 5ms/step - loss: 0.1013 - accuracy: 1.0000 - val_loss: 0.1696 - val_accuracy: 0.9250\n",
            "Epoch 38/50\n",
            "16/16 [==============================] - 0s 5ms/step - loss: 0.0959 - accuracy: 1.0000 - val_loss: 0.1652 - val_accuracy: 0.9250\n",
            "Epoch 39/50\n",
            "16/16 [==============================] - 0s 5ms/step - loss: 0.0905 - accuracy: 1.0000 - val_loss: 0.1559 - val_accuracy: 0.9250\n",
            "Epoch 40/50\n",
            "16/16 [==============================] - 0s 5ms/step - loss: 0.0848 - accuracy: 1.0000 - val_loss: 0.1543 - val_accuracy: 0.9250\n",
            "Epoch 41/50\n",
            "16/16 [==============================] - 0s 5ms/step - loss: 0.0812 - accuracy: 1.0000 - val_loss: 0.1467 - val_accuracy: 0.9250\n",
            "Epoch 42/50\n",
            "16/16 [==============================] - 0s 6ms/step - loss: 0.0736 - accuracy: 1.0000 - val_loss: 0.1420 - val_accuracy: 0.9250\n",
            "Epoch 43/50\n",
            "16/16 [==============================] - 0s 7ms/step - loss: 0.0702 - accuracy: 1.0000 - val_loss: 0.1381 - val_accuracy: 0.9250\n",
            "Epoch 44/50\n",
            "16/16 [==============================] - 0s 9ms/step - loss: 0.0659 - accuracy: 1.0000 - val_loss: 0.1310 - val_accuracy: 0.9250\n",
            "Epoch 45/50\n",
            "16/16 [==============================] - 0s 9ms/step - loss: 0.0610 - accuracy: 1.0000 - val_loss: 0.1264 - val_accuracy: 0.9500\n",
            "Epoch 46/50\n",
            "16/16 [==============================] - 0s 8ms/step - loss: 0.0570 - accuracy: 1.0000 - val_loss: 0.1247 - val_accuracy: 0.9250\n",
            "Epoch 47/50\n",
            "16/16 [==============================] - 0s 6ms/step - loss: 0.0532 - accuracy: 1.0000 - val_loss: 0.1200 - val_accuracy: 0.9250\n",
            "Epoch 48/50\n",
            "16/16 [==============================] - 0s 6ms/step - loss: 0.0494 - accuracy: 1.0000 - val_loss: 0.1130 - val_accuracy: 0.9500\n",
            "Epoch 49/50\n",
            "16/16 [==============================] - 0s 7ms/step - loss: 0.0440 - accuracy: 1.0000 - val_loss: 0.1115 - val_accuracy: 0.9250\n",
            "Epoch 50/50\n",
            "16/16 [==============================] - 0s 7ms/step - loss: 0.0414 - accuracy: 1.0000 - val_loss: 0.1085 - val_accuracy: 0.9500\n",
            "2/2 [==============================] - 0s 9ms/step - loss: 0.1085 - accuracy: 0.9500\n",
            "Loss: 0.10846751928329468\n",
            "Accuracy: 0.949999988079071\n"
          ]
        }
      ]
    },
    {
      "cell_type": "code",
      "source": [
        "# Fazer previsões com o conjunto de teste\n",
        "y_pred_ANN_KDE = model.predict(X_test_KDE)\n",
        "y_pred_classes_ANN_KDE = np.argmax(y_pred_ANN_KDE, axis=1)\n",
        "\n",
        "# Avaliar o desempenho do modelo\n",
        "accuracy = accuracy_score(np.argmax(y_test_KDE, axis=1), y_pred_classes_ANN_KDE)\n",
        "print(f\"Acurácia: {accuracy:.2f}\")\n",
        "\n",
        "# Mostrar relatório de classificação\n",
        "print(\"Relatório de classificação:\")\n",
        "print(classification_report(np.argmax(y_test_KDE, axis=1), y_pred_classes_ANN_KDE))\n",
        "\n",
        "# Mostrar matriz de confusão\n",
        "print(\"Matriz de confusão:\")\n",
        "print(confusion_matrix(np.argmax(y_test_KDE, axis=1), y_pred_classes_ANN_KDE))\n",
        "\n",
        "# Exibir o histórico de treinamento\n",
        "import matplotlib.pyplot as plt\n",
        "\n",
        "plt.plot(history.history['accuracy'], label='Acurácia de treinamento')\n",
        "plt.plot(history.history['val_accuracy'], label='Acurácia de validação')\n",
        "plt.xlabel('Épocas')\n",
        "plt.ylabel('Acurácia')\n",
        "plt.legend()\n",
        "plt.show()"
      ],
      "metadata": {
        "colab": {
          "base_uri": "https://localhost:8080/",
          "height": 781
        },
        "id": "eK-qXJoNod32",
        "outputId": "46bfe18a-e65d-4600-b302-e85299272d19"
      },
      "execution_count": null,
      "outputs": [
        {
          "output_type": "stream",
          "name": "stdout",
          "text": [
            "2/2 [==============================] - 0s 6ms/step\n",
            "Acurácia: 0.95\n",
            "Relatório de classificação:\n",
            "              precision    recall  f1-score   support\n",
            "\n",
            "           0       1.00      1.00      1.00         6\n",
            "           1       1.00      0.87      0.93        15\n",
            "           2       0.90      1.00      0.95         9\n",
            "           3       0.91      1.00      0.95        10\n",
            "\n",
            "    accuracy                           0.95        40\n",
            "   macro avg       0.95      0.97      0.96        40\n",
            "weighted avg       0.95      0.95      0.95        40\n",
            "\n",
            "Matriz de confusão:\n",
            "[[ 6  0  0  0]\n",
            " [ 0 13  1  1]\n",
            " [ 0  0  9  0]\n",
            " [ 0  0  0 10]]\n"
          ]
        },
        {
          "output_type": "display_data",
          "data": {
            "text/plain": [
              "<Figure size 640x480 with 1 Axes>"
            ],
            "image/png": "[encoded data removed]"
          },
          "metadata": {}
        }
      ]
    },
    {
      "cell_type": "markdown",
      "source": [
        "### SVM Originnais"
      ],
      "metadata": {
        "id": "-R6j4AFdsBAW"
      }
    },
    {
      "cell_type": "code",
      "source": [
        "from sklearn.model_selection import train_test_split\n",
        "x_train, x_test, y_train, y_test = train_test_split(X, y, test_size=0.2, random_state=0)"
      ],
      "metadata": {
        "id": "2TV6Ly1Bo941"
      },
      "execution_count": null,
      "outputs": []
    },
    {
      "cell_type": "code",
      "source": [
        "import seaborn as sns\n",
        "method_names = []\n",
        "method_scores = []\n",
        "from sklearn.svm import SVC\n",
        "svm = SVC(random_state=42)\n",
        "svm.fit(x_train,y_train)\n",
        "print(\"SVM Classification Score is: {}\".format(svm.score(x_test,y_test)))\n",
        "method_names.append(\"SVM\")\n",
        "method_scores.append(svm.score(x_test,y_test))\n",
        "\n",
        "#Confusion Matrix\n",
        "y_pred = svm.predict(x_test)\n",
        "conf_mat = confusion_matrix(y_test,y_pred)\n",
        "#Visualization Confusion Matrix\n",
        "f, ax = plt.subplots(figsize=(5,5))\n",
        "sns.heatmap(conf_mat,annot=True,linewidths=0.5,linecolor=\"red\",fmt=\".0f\",ax=ax)\n",
        "plt.xlabel(\"Predicted Values\")\n",
        "plt.ylabel(\"True Values\")\n",
        "plt.show()"
      ],
      "metadata": {
        "colab": {
          "base_uri": "https://localhost:8080/",
          "height": 487
        },
        "id": "QHf63cQ7sF1R",
        "outputId": "ed3042df-fbee-46cd-d986-7c2dbb540104"
      },
      "execution_count": null,
      "outputs": [
        {
          "output_type": "stream",
          "name": "stdout",
          "text": [
            "SVM Classification Score is: 0.9\n"
          ]
        },
        {
          "output_type": "display_data",
          "data": {
            "text/plain": [
              "<Figure size 500x500 with 2 Axes>"
            ],
            "image/png": "[encoded data removed]"
          },
          "metadata": {}
        }
      ]
    },
    {
      "cell_type": "markdown",
      "source": [
        "### SVM Dados KDE"
      ],
      "metadata": {
        "id": "YrdPWY5SsabZ"
      }
    },
    {
      "cell_type": "code",
      "source": [
        "x_train, x_test, y_train, y_test = train_test_split(X_KDE, y_KDE, test_size=0.2, random_state=0)\n",
        "\n",
        "method_names = []\n",
        "method_scores = []\n",
        "from sklearn.svm import SVC\n",
        "svm = SVC(random_state=42)\n",
        "svm.fit(x_train,y_train)\n",
        "print(\"SVM Classification Score is: {}\".format(svm.score(x_test,y_test)))\n",
        "method_names.append(\"SVM\")\n",
        "method_scores.append(svm.score(x_test,y_test))\n",
        "\n",
        "#Confusion Matrix\n",
        "y_pred = svm.predict(x_test)\n",
        "conf_mat = confusion_matrix(y_test,y_pred)\n",
        "#Visualization Confusion Matrix\n",
        "f, ax = plt.subplots(figsize=(5,5))\n",
        "sns.heatmap(conf_mat,annot=True,linewidths=0.5,linecolor=\"red\",fmt=\".0f\",ax=ax)\n",
        "plt.xlabel(\"Predicted Values\")\n",
        "plt.ylabel(\"True Values\")\n",
        "plt.show()"
      ],
      "metadata": {
        "colab": {
          "base_uri": "https://localhost:8080/",
          "height": 487
        },
        "id": "Rm4-agFBsICz",
        "outputId": "871963f5-3c54-47ef-83f3-91445d4698a0"
      },
      "execution_count": null,
      "outputs": [
        {
          "output_type": "stream",
          "name": "stdout",
          "text": [
            "SVM Classification Score is: 0.875\n"
          ]
        },
        {
          "output_type": "display_data",
          "data": {
            "text/plain": [
              "<Figure size 500x500 with 2 Axes>"
            ],
            "image/png": "[encoded data removed]"
          },
          "metadata": {}
        }
      ]
    },
    {
      "cell_type": "code",
      "source": [],
      "metadata": {
        "id": "PnMY6jeot0s7"
      },
      "execution_count": null,
      "outputs": []
    }
  ]
}